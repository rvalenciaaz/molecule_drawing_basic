{
 "cells": [
  {
   "cell_type": "code",
   "execution_count": 2,
   "id": "438533c9",
   "metadata": {},
   "outputs": [],
   "source": [
    "from rdkit import Chem\n",
    "from rdkit.Chem.Draw import IPythonConsole\n",
    "from rdkit.Chem import rdDepictor\n",
    "from rdkit.Chem.Draw import rdMolDraw2D\n",
    "from IPython.display import SVG"
   ]
  },
  {
   "cell_type": "code",
   "execution_count": null,
   "id": "22da2c79",
   "metadata": {},
   "outputs": [],
   "source": []
  },
  {
   "cell_type": "code",
   "execution_count": 3,
   "id": "79166fc5",
   "metadata": {},
   "outputs": [],
   "source": [
    "p = Chem.MolFromSmiles('CC(=O)O')\n",
    "p= Chem.MolFromSmiles('c1ccccc1')\n",
    "p=Chem.MolFromSmiles(\"CNC1=CC=CC=C1\")\n",
    "p=Chem.MolFromSmiles(\"Cc1ccccc1\")\n",
    "p=Chem.MolFromSmiles(\"CC1=CNC2=CC=CC=C12\")\n",
    "q=Chem.MolFromSmiles(\"C12=CC=CC=C1CCN2[H]\")\n",
    "t=Chem.MolFromSmiles(\"C12=CC=CC=C1C=C([N]2[H])O[H]\")\n",
    "z=Chem.MolFromSmiles(\"C12=CC=CC=C1CC(N2[H])=O\")"
   ]
  },
  {
   "cell_type": "code",
   "execution_count": 4,
   "id": "7623db05",
   "metadata": {},
   "outputs": [],
   "source": [
    "#p.HasSubstructMatch(Chem.MolFromSmarts('CC(=O)O'))"
   ]
  },
  {
   "cell_type": "code",
   "execution_count": 5,
   "id": "8c186da2",
   "metadata": {},
   "outputs": [],
   "source": [
    "def moltosvg(smi, molSize = (300,300), kekulize = True):\n",
    "    smiles = smi \n",
    "    mol = Chem.MolFromSmiles(smiles)\n",
    "    mc = Chem.Mol(mol.ToBinary())\n",
    "    if kekulize:\n",
    "        try:\n",
    "            Chem.Kekulize(mc)\n",
    "        except:\n",
    "            mc = Chem.Mol(mol.ToBinary())\n",
    "    if not mc.GetNumConformers():\n",
    "        rdDepictor.Compute2DCoords(mc)\n",
    "    drawer = rdMolDraw2D.MolDraw2DSVG(molSize[0],molSize[1])\n",
    "    drawer.DrawMolecule(mc)\n",
    "    drawer.FinishDrawing()\n",
    "    svg = drawer.GetDrawingText()\n",
    "    return svg.replace('svg:','')"
   ]
  },
  {
   "cell_type": "code",
   "execution_count": 6,
   "id": "88cd8a49",
   "metadata": {},
   "outputs": [],
   "source": [
    "def moltosvg2(smi, molSize = (300,300), kekulize = True):\n",
    "    smiles = smi \n",
    "    mol = Chem.MolFromSmiles(smiles)\n",
    "    mc = Chem.Mol(mol.ToBinary())\n",
    "    if kekulize:\n",
    "        try:\n",
    "            Chem.Kekulize(mc)\n",
    "        except:\n",
    "            mc = Chem.Mol(mol.ToBinary())\n",
    "    if not mc.GetNumConformers():\n",
    "        rdDepictor.Compute2DCoords(mc)\n",
    "    drawer = rdMolDraw2D.MolDraw2DSVG(molSize[0],molSize[1])\n",
    "    drawer.DrawMolecule(mc)\n",
    "    drawer.FinishDrawing()\n",
    "    svg = drawer.GetDrawingText()\n",
    "    return svg"
   ]
  },
  {
   "cell_type": "code",
   "execution_count": 7,
   "id": "23726f38",
   "metadata": {},
   "outputs": [],
   "source": [
    "def moltosvg3(smi,p, molSize = (300,300), kekulize = True):\n",
    "    smiles = smi \n",
    "    mol = Chem.MolFromSmiles(smiles)\n",
    "    mc = Chem.Mol(mol.ToBinary())\n",
    "    if kekulize:\n",
    "        try:\n",
    "            Chem.Kekulize(mc)\n",
    "            Chem.Kekulize(p)\n",
    "        except:\n",
    "            mc = Chem.Mol(mol.ToBinary())\n",
    "    if not mc.GetNumConformers():\n",
    "        rdDepictor.Compute2DCoords(p)\n",
    "        rdDepictor.GenerateDepictionMatching2DStructure(mc,p)\n",
    "        #rdDepictor.Compute2DCoords(mc)\n",
    "    drawer = rdMolDraw2D.MolDraw2DSVG(molSize[0],molSize[1])\n",
    "    drawer.DrawMolecule(mc)\n",
    "    drawer.FinishDrawing()\n",
    "    svg = drawer.GetDrawingText()\n",
    "    return svg"
   ]
  },
  {
   "cell_type": "code",
   "execution_count": 8,
   "id": "069824e4",
   "metadata": {},
   "outputs": [],
   "source": [
    "#SVG(moltosvg('O=C(O)Cc1c[nH]c2ccccc12'))"
   ]
  },
  {
   "cell_type": "code",
   "execution_count": 9,
   "id": "869585bb",
   "metadata": {},
   "outputs": [],
   "source": [
    "#SVG(moltosvg('C12=CC=CC=C1N(C(C2(CC(=O)O[H])O[H])O[H])[H]'))"
   ]
  },
  {
   "cell_type": "code",
   "execution_count": 10,
   "id": "1d8f791a",
   "metadata": {},
   "outputs": [
    {
     "data": {
      "image/svg+xml": [
       "<svg xmlns=\"http://www.w3.org/2000/svg\" xmlns:rdkit=\"http://www.rdkit.org/xml\" xmlns:xlink=\"http://www.w3.org/1999/xlink\" version=\"1.1\" baseProfile=\"full\" xml:space=\"preserve\" width=\"300px\" height=\"300px\" viewBox=\"0 0 300 300\">\n",
       "<!-- END OF HEADER -->\n",
       "<rect style=\"opacity:1.0;fill:#FFFFFF;stroke:none\" width=\"300\" height=\"300\" x=\"0\" y=\"0\"> </rect>\n",
       "<path class=\"bond-0 atom-0 atom-1\" d=\"M 46.815,35.6101 L 60.4772,54.1124\" style=\"fill:none;fill-rule:evenodd;stroke:#FF0000;stroke-width:2.0px;stroke-linecap:butt;stroke-linejoin:miter;stroke-opacity:1\"/>\n",
       "<path class=\"bond-0 atom-0 atom-1\" d=\"M 60.4772,54.1124 L 74.1395,72.6147\" style=\"fill:none;fill-rule:evenodd;stroke:#000000;stroke-width:2.0px;stroke-linecap:butt;stroke-linejoin:miter;stroke-opacity:1\"/>\n",
       "<path class=\"bond-0 atom-0 atom-1\" d=\"M 56.2376,28.6524 L 69.8998,47.1547\" style=\"fill:none;fill-rule:evenodd;stroke:#FF0000;stroke-width:2.0px;stroke-linecap:butt;stroke-linejoin:miter;stroke-opacity:1\"/>\n",
       "<path class=\"bond-0 atom-0 atom-1\" d=\"M 69.8998,47.1547 L 83.5621,65.657\" style=\"fill:none;fill-rule:evenodd;stroke:#000000;stroke-width:2.0px;stroke-linecap:butt;stroke-linejoin:miter;stroke-opacity:1\"/>\n",
       "<path class=\"bond-1 atom-1 atom-2\" d=\"M 78.8508,69.1358 L 103.41,66.3627\" style=\"fill:none;fill-rule:evenodd;stroke:#000000;stroke-width:2.0px;stroke-linecap:butt;stroke-linejoin:miter;stroke-opacity:1\"/>\n",
       "<path class=\"bond-1 atom-1 atom-2\" d=\"M 103.41,66.3627 L 127.968,63.5895\" style=\"fill:none;fill-rule:evenodd;stroke:#FF0000;stroke-width:2.0px;stroke-linecap:butt;stroke-linejoin:miter;stroke-opacity:1\"/>\n",
       "<path class=\"bond-2 atom-1 atom-3\" d=\"M 78.8508,69.1358 L 55.4441,122.82\" style=\"fill:none;fill-rule:evenodd;stroke:#000000;stroke-width:2.0px;stroke-linecap:butt;stroke-linejoin:miter;stroke-opacity:1\"/>\n",
       "<path class=\"bond-3 atom-3 atom-4\" d=\"M 55.4441,122.82 L 90.2326,169.933\" style=\"fill:none;fill-rule:evenodd;stroke:#000000;stroke-width:2.0px;stroke-linecap:butt;stroke-linejoin:miter;stroke-opacity:1\"/>\n",
       "<path class=\"bond-4 atom-4 atom-5\" d=\"M 90.2326,169.933 L 72.5656,225.77\" style=\"fill:none;fill-rule:evenodd;stroke:#000000;stroke-width:2.0px;stroke-linecap:butt;stroke-linejoin:miter;stroke-opacity:1\"/>\n",
       "<path class=\"bond-4 atom-4 atom-5\" d=\"M 98.7499,181.842 L 86.383,220.928\" style=\"fill:none;fill-rule:evenodd;stroke:#000000;stroke-width:2.0px;stroke-linecap:butt;stroke-linejoin:miter;stroke-opacity:1\"/>\n",
       "<path class=\"bond-12 atom-12 atom-4\" d=\"M 148.796,169.481 L 90.2326,169.933\" style=\"fill:none;fill-rule:evenodd;stroke:#000000;stroke-width:2.0px;stroke-linecap:butt;stroke-linejoin:miter;stroke-opacity:1\"/>\n",
       "<path class=\"bond-5 atom-5 atom-6\" d=\"M 72.5656,225.77 L 92.5109,240.027\" style=\"fill:none;fill-rule:evenodd;stroke:#000000;stroke-width:2.0px;stroke-linecap:butt;stroke-linejoin:miter;stroke-opacity:1\"/>\n",
       "<path class=\"bond-5 atom-5 atom-6\" d=\"M 92.5109,240.027 L 112.456,254.284\" style=\"fill:none;fill-rule:evenodd;stroke:#0000FF;stroke-width:2.0px;stroke-linecap:butt;stroke-linejoin:miter;stroke-opacity:1\"/>\n",
       "<path class=\"bond-6 atom-6 atom-7\" d=\"M 127.964,254.101 L 147.644,239.57\" style=\"fill:none;fill-rule:evenodd;stroke:#0000FF;stroke-width:2.0px;stroke-linecap:butt;stroke-linejoin:miter;stroke-opacity:1\"/>\n",
       "<path class=\"bond-6 atom-6 atom-7\" d=\"M 147.644,239.57 L 167.323,225.038\" style=\"fill:none;fill-rule:evenodd;stroke:#000000;stroke-width:2.0px;stroke-linecap:butt;stroke-linejoin:miter;stroke-opacity:1\"/>\n",
       "<path class=\"bond-7 atom-7 atom-8\" d=\"M 167.323,225.038 L 224.701,236.772\" style=\"fill:none;fill-rule:evenodd;stroke:#000000;stroke-width:2.0px;stroke-linecap:butt;stroke-linejoin:miter;stroke-opacity:1\"/>\n",
       "<path class=\"bond-7 atom-7 atom-8\" d=\"M 178.277,215.323 L 218.441,223.536\" style=\"fill:none;fill-rule:evenodd;stroke:#000000;stroke-width:2.0px;stroke-linecap:butt;stroke-linejoin:miter;stroke-opacity:1\"/>\n",
       "<path class=\"bond-13 atom-12 atom-7\" d=\"M 148.796,169.481 L 167.323,225.038\" style=\"fill:none;fill-rule:evenodd;stroke:#000000;stroke-width:2.0px;stroke-linecap:butt;stroke-linejoin:miter;stroke-opacity:1\"/>\n",
       "<path class=\"bond-8 atom-8 atom-9\" d=\"M 224.701,236.772 L 263.551,192.948\" style=\"fill:none;fill-rule:evenodd;stroke:#000000;stroke-width:2.0px;stroke-linecap:butt;stroke-linejoin:miter;stroke-opacity:1\"/>\n",
       "<path class=\"bond-9 atom-9 atom-10\" d=\"M 263.551,192.948 L 245.024,137.391\" style=\"fill:none;fill-rule:evenodd;stroke:#000000;stroke-width:2.0px;stroke-linecap:butt;stroke-linejoin:miter;stroke-opacity:1\"/>\n",
       "<path class=\"bond-9 atom-9 atom-10\" d=\"M 249.661,188.32 L 236.692,149.43\" style=\"fill:none;fill-rule:evenodd;stroke:#000000;stroke-width:2.0px;stroke-linecap:butt;stroke-linejoin:miter;stroke-opacity:1\"/>\n",
       "<path class=\"bond-10 atom-10 atom-11\" d=\"M 245.024,137.391 L 187.646,125.657\" style=\"fill:none;fill-rule:evenodd;stroke:#000000;stroke-width:2.0px;stroke-linecap:butt;stroke-linejoin:miter;stroke-opacity:1\"/>\n",
       "<path class=\"bond-11 atom-11 atom-12\" d=\"M 187.646,125.657 L 148.796,169.481\" style=\"fill:none;fill-rule:evenodd;stroke:#000000;stroke-width:2.0px;stroke-linecap:butt;stroke-linejoin:miter;stroke-opacity:1\"/>\n",
       "<path class=\"bond-11 atom-11 atom-12\" d=\"M 190.584,140.001 L 163.388,170.677\" style=\"fill:none;fill-rule:evenodd;stroke:#000000;stroke-width:2.0px;stroke-linecap:butt;stroke-linejoin:miter;stroke-opacity:1\"/>\n",
       "<path class=\"atom-0\" d=\"M 36.4488 22.0697 Q 36.4488 18.0873, 38.4166 15.8618 Q 40.3843 13.6364, 44.0622 13.6364 Q 47.7401 13.6364, 49.7079 15.8618 Q 51.6757 18.0873, 51.6757 22.0697 Q 51.6757 26.099, 49.6845 28.3948 Q 47.6933 30.6671, 44.0622 30.6671 Q 40.4078 30.6671, 38.4166 28.3948 Q 36.4488 26.1224, 36.4488 22.0697 M 44.0622 28.793 Q 46.5922 28.793, 47.951 27.1063 Q 49.3331 25.3962, 49.3331 22.0697 Q 49.3331 18.8135, 47.951 17.1737 Q 46.5922 15.5104, 44.0622 15.5104 Q 41.5322 15.5104, 40.1501 17.1503 Q 38.7914 18.7901, 38.7914 22.0697 Q 38.7914 25.4197, 40.1501 27.1063 Q 41.5322 28.793, 44.0622 28.793 \" fill=\"#FF0000\"/>\n",
       "<path class=\"atom-2\" d=\"M 129.433 62.6114 Q 129.433 58.6289, 131.4 56.4035 Q 133.368 54.178, 137.046 54.178 Q 140.724 54.178, 142.692 56.4035 Q 144.66 58.6289, 144.66 62.6114 Q 144.66 66.6407, 142.668 68.9364 Q 140.677 71.2087, 137.046 71.2087 Q 133.392 71.2087, 131.4 68.9364 Q 129.433 66.6641, 129.433 62.6114 M 137.046 69.3346 Q 139.576 69.3346, 140.935 67.648 Q 142.317 65.9379, 142.317 62.6114 Q 142.317 59.3552, 140.935 57.7153 Q 139.576 56.0521, 137.046 56.0521 Q 134.516 56.0521, 133.134 57.6919 Q 131.775 59.3317, 131.775 62.6114 Q 131.775 65.9613, 133.134 67.648 Q 134.516 69.3346, 137.046 69.3346 \" fill=\"#FF0000\"/>\n",
       "<path class=\"atom-2\" d=\"M 146.651 54.3654 L 148.9 54.3654 L 148.9 61.4166 L 157.38 61.4166 L 157.38 54.3654 L 159.629 54.3654 L 159.629 70.951 L 157.38 70.951 L 157.38 63.2907 L 148.9 63.2907 L 148.9 70.951 L 146.651 70.951 L 146.651 54.3654 \" fill=\"#FF0000\"/>\n",
       "<path class=\"atom-6\" d=\"M 116.544 251.534 L 121.979 260.319 Q 122.518 261.185, 123.384 262.755 Q 124.251 264.324, 124.298 264.418 L 124.298 251.534 L 126.5 251.534 L 126.5 268.119 L 124.228 268.119 L 118.395 258.515 Q 117.715 257.39, 116.989 256.102 Q 116.286 254.813, 116.076 254.415 L 116.076 268.119 L 113.92 268.119 L 113.92 251.534 L 116.544 251.534 \" fill=\"#0000FF\"/>\n",
       "<path class=\"atom-6\" d=\"M 113.721 269.778 L 115.97 269.778 L 115.97 276.829 L 124.45 276.829 L 124.45 269.778 L 126.699 269.778 L 126.699 286.364 L 124.45 286.364 L 124.45 278.703 L 115.97 278.703 L 115.97 286.364 L 113.721 286.364 L 113.721 269.778 \" fill=\"#0000FF\"/>\n",
       "</svg>"
      ],
      "text/plain": [
       "<IPython.core.display.SVG object>"
      ]
     },
     "execution_count": 10,
     "metadata": {},
     "output_type": "execute_result"
    }
   ],
   "source": [
    "SVG(moltosvg3('O=C(O)Cc1c[nH]c2ccccc12',p))"
   ]
  },
  {
   "cell_type": "code",
   "execution_count": 11,
   "id": "53c6a35e",
   "metadata": {},
   "outputs": [
    {
     "data": {
      "image/svg+xml": [
       "<svg xmlns=\"http://www.w3.org/2000/svg\" xmlns:rdkit=\"http://www.rdkit.org/xml\" xmlns:xlink=\"http://www.w3.org/1999/xlink\" version=\"1.1\" baseProfile=\"full\" xml:space=\"preserve\" width=\"300px\" height=\"300px\" viewBox=\"0 0 300 300\">\n",
       "<!-- END OF HEADER -->\n",
       "<rect style=\"opacity:1.0;fill:#FFFFFF;stroke:none\" width=\"300\" height=\"300\" x=\"0\" y=\"0\"> </rect>\n",
       "<path class=\"bond-0 atom-0 atom-1\" d=\"M 184.613,170.27 L 235.488,140.897\" style=\"fill:none;fill-rule:evenodd;stroke:#000000;stroke-width:2.0px;stroke-linecap:butt;stroke-linejoin:miter;stroke-opacity:1\"/>\n",
       "<path class=\"bond-0 atom-0 atom-1\" d=\"M 198.119,176.039 L 233.731,155.478\" style=\"fill:none;fill-rule:evenodd;stroke:#000000;stroke-width:2.0px;stroke-linecap:butt;stroke-linejoin:miter;stroke-opacity:1\"/>\n",
       "<path class=\"bond-14 atom-5 atom-0\" d=\"M 184.613,229.016 L 184.613,170.27\" style=\"fill:none;fill-rule:evenodd;stroke:#000000;stroke-width:2.0px;stroke-linecap:butt;stroke-linejoin:miter;stroke-opacity:1\"/>\n",
       "<path class=\"bond-15 atom-8 atom-0\" d=\"M 128.742,152.116 L 184.613,170.27\" style=\"fill:none;fill-rule:evenodd;stroke:#000000;stroke-width:2.0px;stroke-linecap:butt;stroke-linejoin:miter;stroke-opacity:1\"/>\n",
       "<path class=\"bond-1 atom-1 atom-2\" d=\"M 235.488,140.897 L 286.364,170.27\" style=\"fill:none;fill-rule:evenodd;stroke:#000000;stroke-width:2.0px;stroke-linecap:butt;stroke-linejoin:miter;stroke-opacity:1\"/>\n",
       "<path class=\"bond-2 atom-2 atom-3\" d=\"M 286.364,170.27 L 286.364,229.016\" style=\"fill:none;fill-rule:evenodd;stroke:#000000;stroke-width:2.0px;stroke-linecap:butt;stroke-linejoin:miter;stroke-opacity:1\"/>\n",
       "<path class=\"bond-2 atom-2 atom-3\" d=\"M 274.614,179.082 L 274.614,220.204\" style=\"fill:none;fill-rule:evenodd;stroke:#000000;stroke-width:2.0px;stroke-linecap:butt;stroke-linejoin:miter;stroke-opacity:1\"/>\n",
       "<path class=\"bond-3 atom-3 atom-4\" d=\"M 286.364,229.016 L 235.488,258.388\" style=\"fill:none;fill-rule:evenodd;stroke:#000000;stroke-width:2.0px;stroke-linecap:butt;stroke-linejoin:miter;stroke-opacity:1\"/>\n",
       "<path class=\"bond-4 atom-4 atom-5\" d=\"M 235.488,258.388 L 184.613,229.016\" style=\"fill:none;fill-rule:evenodd;stroke:#000000;stroke-width:2.0px;stroke-linecap:butt;stroke-linejoin:miter;stroke-opacity:1\"/>\n",
       "<path class=\"bond-4 atom-4 atom-5\" d=\"M 233.731,243.807 L 198.119,223.246\" style=\"fill:none;fill-rule:evenodd;stroke:#000000;stroke-width:2.0px;stroke-linecap:butt;stroke-linejoin:miter;stroke-opacity:1\"/>\n",
       "<path class=\"bond-5 atom-5 atom-6\" d=\"M 184.613,229.016 L 160.566,236.829\" style=\"fill:none;fill-rule:evenodd;stroke:#000000;stroke-width:2.0px;stroke-linecap:butt;stroke-linejoin:miter;stroke-opacity:1\"/>\n",
       "<path class=\"bond-5 atom-5 atom-6\" d=\"M 160.566,236.829 L 136.52,244.642\" style=\"fill:none;fill-rule:evenodd;stroke:#0000FF;stroke-width:2.0px;stroke-linecap:butt;stroke-linejoin:miter;stroke-opacity:1\"/>\n",
       "<path class=\"bond-6 atom-6 atom-7\" d=\"M 121.631,237.382 L 107.922,218.512\" style=\"fill:none;fill-rule:evenodd;stroke:#0000FF;stroke-width:2.0px;stroke-linecap:butt;stroke-linejoin:miter;stroke-opacity:1\"/>\n",
       "<path class=\"bond-6 atom-6 atom-7\" d=\"M 107.922,218.512 L 94.2122,199.643\" style=\"fill:none;fill-rule:evenodd;stroke:#000000;stroke-width:2.0px;stroke-linecap:butt;stroke-linejoin:miter;stroke-opacity:1\"/>\n",
       "<path class=\"bond-7 atom-7 atom-8\" d=\"M 94.2122,199.643 L 128.742,152.116\" style=\"fill:none;fill-rule:evenodd;stroke:#000000;stroke-width:2.0px;stroke-linecap:butt;stroke-linejoin:miter;stroke-opacity:1\"/>\n",
       "<path class=\"bond-13 atom-7 atom-14\" d=\"M 94.2122,199.643 L 69.3921,199.643\" style=\"fill:none;fill-rule:evenodd;stroke:#000000;stroke-width:2.0px;stroke-linecap:butt;stroke-linejoin:miter;stroke-opacity:1\"/>\n",
       "<path class=\"bond-13 atom-7 atom-14\" d=\"M 69.3921,199.643 L 44.5719,199.643\" style=\"fill:none;fill-rule:evenodd;stroke:#FF0000;stroke-width:2.0px;stroke-linecap:butt;stroke-linejoin:miter;stroke-opacity:1\"/>\n",
       "<path class=\"bond-8 atom-8 atom-9\" d=\"M 128.742,152.116 L 77.8667,122.743\" style=\"fill:none;fill-rule:evenodd;stroke:#000000;stroke-width:2.0px;stroke-linecap:butt;stroke-linejoin:miter;stroke-opacity:1\"/>\n",
       "<path class=\"bond-12 atom-8 atom-13\" d=\"M 128.742,152.116 L 138.432,130.352\" style=\"fill:none;fill-rule:evenodd;stroke:#000000;stroke-width:2.0px;stroke-linecap:butt;stroke-linejoin:miter;stroke-opacity:1\"/>\n",
       "<path class=\"bond-12 atom-8 atom-13\" d=\"M 138.432,130.352 L 148.122,108.589\" style=\"fill:none;fill-rule:evenodd;stroke:#FF0000;stroke-width:2.0px;stroke-linecap:butt;stroke-linejoin:miter;stroke-opacity:1\"/>\n",
       "<path class=\"bond-9 atom-9 atom-10\" d=\"M 77.8667,122.743 L 77.8667,63.9974\" style=\"fill:none;fill-rule:evenodd;stroke:#000000;stroke-width:2.0px;stroke-linecap:butt;stroke-linejoin:miter;stroke-opacity:1\"/>\n",
       "<path class=\"bond-10 atom-10 atom-11\" d=\"M 80.804,58.9099 L 59.9191,46.8519\" style=\"fill:none;fill-rule:evenodd;stroke:#000000;stroke-width:2.0px;stroke-linecap:butt;stroke-linejoin:miter;stroke-opacity:1\"/>\n",
       "<path class=\"bond-10 atom-10 atom-11\" d=\"M 59.9191,46.8519 L 39.0342,34.794\" style=\"fill:none;fill-rule:evenodd;stroke:#FF0000;stroke-width:2.0px;stroke-linecap:butt;stroke-linejoin:miter;stroke-opacity:1\"/>\n",
       "<path class=\"bond-10 atom-10 atom-11\" d=\"M 74.9294,69.0849 L 54.0445,57.027\" style=\"fill:none;fill-rule:evenodd;stroke:#000000;stroke-width:2.0px;stroke-linecap:butt;stroke-linejoin:miter;stroke-opacity:1\"/>\n",
       "<path class=\"bond-10 atom-10 atom-11\" d=\"M 54.0445,57.027 L 33.1596,44.9691\" style=\"fill:none;fill-rule:evenodd;stroke:#FF0000;stroke-width:2.0px;stroke-linecap:butt;stroke-linejoin:miter;stroke-opacity:1\"/>\n",
       "<path class=\"bond-11 atom-10 atom-12\" d=\"M 77.8667,63.9974 L 98.7516,51.9395\" style=\"fill:none;fill-rule:evenodd;stroke:#000000;stroke-width:2.0px;stroke-linecap:butt;stroke-linejoin:miter;stroke-opacity:1\"/>\n",
       "<path class=\"bond-11 atom-10 atom-12\" d=\"M 98.7516,51.9395 L 119.637,39.8816\" style=\"fill:none;fill-rule:evenodd;stroke:#FF0000;stroke-width:2.0px;stroke-linecap:butt;stroke-linejoin:miter;stroke-opacity:1\"/>\n",
       "<path class=\"atom-6\" d=\"M 125.065 238.851 L 130.516 247.662 Q 131.057 248.532, 131.926 250.106 Q 132.796 251.681, 132.843 251.775 L 132.843 238.851 L 135.051 238.851 L 135.051 255.487 L 132.772 255.487 L 126.921 245.853 Q 126.24 244.725, 125.511 243.433 Q 124.806 242.14, 124.595 241.741 L 124.595 255.487 L 122.433 255.487 L 122.433 238.851 L 125.065 238.851 \" fill=\"#0000FF\"/>\n",
       "<path class=\"atom-6\" d=\"M 122.233 257.151 L 124.489 257.151 L 124.489 264.224 L 132.995 264.224 L 132.995 257.151 L 135.251 257.151 L 135.251 273.788 L 132.995 273.788 L 132.995 266.104 L 124.489 266.104 L 124.489 273.788 L 122.233 273.788 L 122.233 257.151 \" fill=\"#0000FF\"/>\n",
       "<path class=\"atom-11\" d=\"M 19.3544 34.6715 Q 19.3544 30.6767, 21.3282 28.4444 Q 23.3021 26.2121, 26.9913 26.2121 Q 30.6806 26.2121, 32.6544 28.4444 Q 34.6283 30.6767, 34.6283 34.6715 Q 34.6283 38.7132, 32.6309 41.016 Q 30.6336 43.2954, 26.9913 43.2954 Q 23.3256 43.2954, 21.3282 41.016 Q 19.3544 38.7367, 19.3544 34.6715 M 26.9913 41.4155 Q 29.5291 41.4155, 30.892 39.7236 Q 32.2785 38.0082, 32.2785 34.6715 Q 32.2785 31.4052, 30.892 29.7603 Q 29.5291 28.0919, 26.9913 28.0919 Q 24.4535 28.0919, 23.0671 29.7368 Q 21.7042 31.3817, 21.7042 34.6715 Q 21.7042 38.0317, 23.0671 39.7236 Q 24.4535 41.4155, 26.9913 41.4155 \" fill=\"#FF0000\"/>\n",
       "<path class=\"atom-12\" d=\"M 121.105 34.6715 Q 121.105 30.6767, 123.079 28.4444 Q 125.053 26.2121, 128.742 26.2121 Q 132.431 26.2121, 134.405 28.4444 Q 136.379 30.6767, 136.379 34.6715 Q 136.379 38.7132, 134.382 41.016 Q 132.384 43.2954, 128.742 43.2954 Q 125.076 43.2954, 123.079 41.016 Q 121.105 38.7367, 121.105 34.6715 M 128.742 41.4155 Q 131.28 41.4155, 132.643 39.7236 Q 134.029 38.0082, 134.029 34.6715 Q 134.029 31.4052, 132.643 29.7603 Q 131.28 28.0919, 128.742 28.0919 Q 126.204 28.0919, 124.818 29.7368 Q 123.455 31.3817, 123.455 34.6715 Q 123.455 38.0317, 124.818 39.7236 Q 126.204 41.4155, 128.742 41.4155 \" fill=\"#FF0000\"/>\n",
       "<path class=\"atom-12\" d=\"M 138.376 26.4 L 140.632 26.4 L 140.632 33.473 L 149.139 33.473 L 149.139 26.4 L 151.395 26.4 L 151.395 43.0369 L 149.139 43.0369 L 149.139 35.3529 L 140.632 35.3529 L 140.632 43.0369 L 138.376 43.0369 L 138.376 26.4 \" fill=\"#FF0000\"/>\n",
       "<path class=\"atom-13\" d=\"M 144.999 98.4962 Q 144.999 94.5015, 146.973 92.2691 Q 148.947 90.0368, 152.636 90.0368 Q 156.325 90.0368, 158.299 92.2691 Q 160.273 94.5015, 160.273 98.4962 Q 160.273 102.538, 158.276 104.841 Q 156.279 107.12, 152.636 107.12 Q 148.971 107.12, 146.973 104.841 Q 144.999 102.561, 144.999 98.4962 M 152.636 105.24 Q 155.174 105.24, 156.537 103.548 Q 157.923 101.833, 157.923 98.4962 Q 157.923 95.2299, 156.537 93.585 Q 155.174 91.9166, 152.636 91.9166 Q 150.098 91.9166, 148.712 93.5615 Q 147.349 95.2064, 147.349 98.4962 Q 147.349 101.856, 148.712 103.548 Q 150.098 105.24, 152.636 105.24 \" fill=\"#FF0000\"/>\n",
       "<path class=\"atom-13\" d=\"M 162.271 90.2248 L 164.526 90.2248 L 164.526 97.2978 L 173.033 97.2978 L 173.033 90.2248 L 175.289 90.2248 L 175.289 106.862 L 173.033 106.862 L 173.033 99.1776 L 164.526 99.1776 L 164.526 106.862 L 162.271 106.862 L 162.271 90.2248 \" fill=\"#FF0000\"/>\n",
       "<path class=\"atom-14\" d=\"M 13.6364 191.418 L 15.8922 191.418 L 15.8922 198.491 L 24.3986 198.491 L 24.3986 191.418 L 26.6544 191.418 L 26.6544 208.055 L 24.3986 208.055 L 24.3986 200.371 L 15.8922 200.371 L 15.8922 208.055 L 13.6364 208.055 L 13.6364 191.418 \" fill=\"#FF0000\"/>\n",
       "<path class=\"atom-14\" d=\"M 27.8294 199.69 Q 27.8294 195.695, 29.8032 193.463 Q 31.7771 191.23, 35.4663 191.23 Q 39.1556 191.23, 41.1294 193.463 Q 43.1033 195.695, 43.1033 199.69 Q 43.1033 203.731, 41.1059 206.034 Q 39.1086 208.314, 35.4663 208.314 Q 31.8006 208.314, 29.8032 206.034 Q 27.8294 203.755, 27.8294 199.69 M 35.4663 206.434 Q 38.0042 206.434, 39.3671 204.742 Q 40.7535 203.026, 40.7535 199.69 Q 40.7535 196.423, 39.3671 194.778 Q 38.0042 193.11, 35.4663 193.11 Q 32.9285 193.11, 31.5421 194.755 Q 30.1792 196.4, 30.1792 199.69 Q 30.1792 203.05, 31.5421 204.742 Q 32.9285 206.434, 35.4663 206.434 \" fill=\"#FF0000\"/>\n",
       "</svg>"
      ],
      "text/plain": [
       "<IPython.core.display.SVG object>"
      ]
     },
     "execution_count": 11,
     "metadata": {},
     "output_type": "execute_result"
    }
   ],
   "source": [
    "SVG(moltosvg3('C12=CC=CC=C1N(C(C2(CC(=O)O[H])O[H])O[H])[H]',q))"
   ]
  },
  {
   "cell_type": "code",
   "execution_count": 12,
   "id": "626658da",
   "metadata": {},
   "outputs": [
    {
     "data": {
      "image/svg+xml": [
       "<svg xmlns=\"http://www.w3.org/2000/svg\" xmlns:rdkit=\"http://www.rdkit.org/xml\" xmlns:xlink=\"http://www.w3.org/1999/xlink\" version=\"1.1\" baseProfile=\"full\" xml:space=\"preserve\" width=\"300px\" height=\"300px\" viewBox=\"0 0 300 300\">\n",
       "<!-- END OF HEADER -->\n",
       "<rect style=\"opacity:1.0;fill:#FFFFFF;stroke:none\" width=\"300\" height=\"300\" x=\"0\" y=\"0\"> </rect>\n",
       "<path class=\"bond-0 atom-0 atom-1\" d=\"M 182.434,170.704 L 234.399,140.702\" style=\"fill:none;fill-rule:evenodd;stroke:#000000;stroke-width:2.0px;stroke-linecap:butt;stroke-linejoin:miter;stroke-opacity:1\"/>\n",
       "<path class=\"bond-0 atom-0 atom-1\" d=\"M 196.229,176.596 L 232.604,155.595\" style=\"fill:none;fill-rule:evenodd;stroke:#000000;stroke-width:2.0px;stroke-linecap:butt;stroke-linejoin:miter;stroke-opacity:1\"/>\n",
       "<path class=\"bond-14 atom-5 atom-0\" d=\"M 182.434,230.708 L 182.434,170.704\" style=\"fill:none;fill-rule:evenodd;stroke:#000000;stroke-width:2.0px;stroke-linecap:butt;stroke-linejoin:miter;stroke-opacity:1\"/>\n",
       "<path class=\"bond-15 atom-8 atom-0\" d=\"M 125.367,152.162 L 182.434,170.704\" style=\"fill:none;fill-rule:evenodd;stroke:#000000;stroke-width:2.0px;stroke-linecap:butt;stroke-linejoin:miter;stroke-opacity:1\"/>\n",
       "<path class=\"bond-1 atom-1 atom-2\" d=\"M 234.399,140.702 L 286.364,170.704\" style=\"fill:none;fill-rule:evenodd;stroke:#000000;stroke-width:2.0px;stroke-linecap:butt;stroke-linejoin:miter;stroke-opacity:1\"/>\n",
       "<path class=\"bond-2 atom-2 atom-3\" d=\"M 286.364,170.704 L 286.364,230.708\" style=\"fill:none;fill-rule:evenodd;stroke:#000000;stroke-width:2.0px;stroke-linecap:butt;stroke-linejoin:miter;stroke-opacity:1\"/>\n",
       "<path class=\"bond-2 atom-2 atom-3\" d=\"M 274.363,179.704 L 274.363,221.707\" style=\"fill:none;fill-rule:evenodd;stroke:#000000;stroke-width:2.0px;stroke-linecap:butt;stroke-linejoin:miter;stroke-opacity:1\"/>\n",
       "<path class=\"bond-3 atom-3 atom-4\" d=\"M 286.364,230.708 L 234.399,260.71\" style=\"fill:none;fill-rule:evenodd;stroke:#000000;stroke-width:2.0px;stroke-linecap:butt;stroke-linejoin:miter;stroke-opacity:1\"/>\n",
       "<path class=\"bond-4 atom-4 atom-5\" d=\"M 234.399,260.71 L 182.434,230.708\" style=\"fill:none;fill-rule:evenodd;stroke:#000000;stroke-width:2.0px;stroke-linecap:butt;stroke-linejoin:miter;stroke-opacity:1\"/>\n",
       "<path class=\"bond-4 atom-4 atom-5\" d=\"M 232.604,245.816 L 196.229,224.815\" style=\"fill:none;fill-rule:evenodd;stroke:#000000;stroke-width:2.0px;stroke-linecap:butt;stroke-linejoin:miter;stroke-opacity:1\"/>\n",
       "<path class=\"bond-5 atom-5 atom-6\" d=\"M 182.434,230.708 L 157.873,238.688\" style=\"fill:none;fill-rule:evenodd;stroke:#000000;stroke-width:2.0px;stroke-linecap:butt;stroke-linejoin:miter;stroke-opacity:1\"/>\n",
       "<path class=\"bond-5 atom-5 atom-6\" d=\"M 157.873,238.688 L 133.311,246.669\" style=\"fill:none;fill-rule:evenodd;stroke:#0000FF;stroke-width:2.0px;stroke-linecap:butt;stroke-linejoin:miter;stroke-opacity:1\"/>\n",
       "<path class=\"bond-6 atom-6 atom-7\" d=\"M 118.104,239.253 L 104.1,219.979\" style=\"fill:none;fill-rule:evenodd;stroke:#0000FF;stroke-width:2.0px;stroke-linecap:butt;stroke-linejoin:miter;stroke-opacity:1\"/>\n",
       "<path class=\"bond-6 atom-6 atom-7\" d=\"M 104.1,219.979 L 90.0973,200.706\" style=\"fill:none;fill-rule:evenodd;stroke:#000000;stroke-width:2.0px;stroke-linecap:butt;stroke-linejoin:miter;stroke-opacity:1\"/>\n",
       "<path class=\"bond-7 atom-7 atom-8\" d=\"M 90.0973,200.706 L 125.367,152.162\" style=\"fill:none;fill-rule:evenodd;stroke:#000000;stroke-width:2.0px;stroke-linecap:butt;stroke-linejoin:miter;stroke-opacity:1\"/>\n",
       "<path class=\"bond-13 atom-7 atom-14\" d=\"M 90.0973,194.705 L 64.7456,194.705\" style=\"fill:none;fill-rule:evenodd;stroke:#000000;stroke-width:2.0px;stroke-linecap:butt;stroke-linejoin:miter;stroke-opacity:1\"/>\n",
       "<path class=\"bond-13 atom-7 atom-14\" d=\"M 64.7456,194.705 L 39.394,194.705\" style=\"fill:none;fill-rule:evenodd;stroke:#FF0000;stroke-width:2.0px;stroke-linecap:butt;stroke-linejoin:miter;stroke-opacity:1\"/>\n",
       "<path class=\"bond-13 atom-7 atom-14\" d=\"M 90.0973,206.706 L 64.7456,206.706\" style=\"fill:none;fill-rule:evenodd;stroke:#000000;stroke-width:2.0px;stroke-linecap:butt;stroke-linejoin:miter;stroke-opacity:1\"/>\n",
       "<path class=\"bond-13 atom-7 atom-14\" d=\"M 64.7456,206.706 L 39.394,206.706\" style=\"fill:none;fill-rule:evenodd;stroke:#FF0000;stroke-width:2.0px;stroke-linecap:butt;stroke-linejoin:miter;stroke-opacity:1\"/>\n",
       "<path class=\"bond-8 atom-8 atom-9\" d=\"M 125.367,152.162 L 73.4018,122.16\" style=\"fill:none;fill-rule:evenodd;stroke:#000000;stroke-width:2.0px;stroke-linecap:butt;stroke-linejoin:miter;stroke-opacity:1\"/>\n",
       "<path class=\"bond-12 atom-8 atom-13\" d=\"M 125.367,152.162 L 135.264,129.932\" style=\"fill:none;fill-rule:evenodd;stroke:#000000;stroke-width:2.0px;stroke-linecap:butt;stroke-linejoin:miter;stroke-opacity:1\"/>\n",
       "<path class=\"bond-12 atom-8 atom-13\" d=\"M 135.264,129.932 L 145.161,107.702\" style=\"fill:none;fill-rule:evenodd;stroke:#FF0000;stroke-width:2.0px;stroke-linecap:butt;stroke-linejoin:miter;stroke-opacity:1\"/>\n",
       "<path class=\"bond-9 atom-9 atom-10\" d=\"M 73.4018,122.16 L 73.4018,62.1557\" style=\"fill:none;fill-rule:evenodd;stroke:#000000;stroke-width:2.0px;stroke-linecap:butt;stroke-linejoin:miter;stroke-opacity:1\"/>\n",
       "<path class=\"bond-10 atom-10 atom-11\" d=\"M 76.402,56.9592 L 55.0698,44.643\" style=\"fill:none;fill-rule:evenodd;stroke:#000000;stroke-width:2.0px;stroke-linecap:butt;stroke-linejoin:miter;stroke-opacity:1\"/>\n",
       "<path class=\"bond-10 atom-10 atom-11\" d=\"M 55.0698,44.643 L 33.7377,32.3269\" style=\"fill:none;fill-rule:evenodd;stroke:#FF0000;stroke-width:2.0px;stroke-linecap:butt;stroke-linejoin:miter;stroke-opacity:1\"/>\n",
       "<path class=\"bond-10 atom-10 atom-11\" d=\"M 70.4016,67.3521 L 49.0694,55.036\" style=\"fill:none;fill-rule:evenodd;stroke:#000000;stroke-width:2.0px;stroke-linecap:butt;stroke-linejoin:miter;stroke-opacity:1\"/>\n",
       "<path class=\"bond-10 atom-10 atom-11\" d=\"M 49.0694,55.036 L 27.7373,42.7199\" style=\"fill:none;fill-rule:evenodd;stroke:#FF0000;stroke-width:2.0px;stroke-linecap:butt;stroke-linejoin:miter;stroke-opacity:1\"/>\n",
       "<path class=\"bond-11 atom-10 atom-12\" d=\"M 73.4018,62.1557 L 94.7339,49.8395\" style=\"fill:none;fill-rule:evenodd;stroke:#000000;stroke-width:2.0px;stroke-linecap:butt;stroke-linejoin:miter;stroke-opacity:1\"/>\n",
       "<path class=\"bond-11 atom-10 atom-12\" d=\"M 94.7339,49.8395 L 116.066,37.5234\" style=\"fill:none;fill-rule:evenodd;stroke:#FF0000;stroke-width:2.0px;stroke-linecap:butt;stroke-linejoin:miter;stroke-opacity:1\"/>\n",
       "<path class=\"atom-6\" d=\"M 121.61 240.753 L 127.179 249.754 Q 127.731 250.642, 128.619 252.25 Q 129.507 253.858, 129.555 253.954 L 129.555 240.753 L 131.811 240.753 L 131.811 257.746 L 129.483 257.746 L 123.507 247.906 Q 122.811 246.754, 122.066 245.434 Q 121.346 244.114, 121.13 243.706 L 121.13 257.746 L 118.922 257.746 L 118.922 240.753 L 121.61 240.753 \" fill=\"#0000FF\"/>\n",
       "<path class=\"atom-6\" d=\"M 118.718 259.446 L 121.022 259.446 L 121.022 266.67 L 129.711 266.67 L 129.711 259.446 L 132.015 259.446 L 132.015 276.439 L 129.711 276.439 L 129.711 268.59 L 121.022 268.59 L 121.022 276.439 L 118.718 276.439 L 118.718 259.446 \" fill=\"#0000FF\"/>\n",
       "<path class=\"atom-11\" d=\"M 13.6364 32.2017 Q 13.6364 28.1214, 15.6525 25.8413 Q 17.6686 23.5611, 21.4369 23.5611 Q 25.2051 23.5611, 27.2212 25.8413 Q 29.2374 28.1214, 29.2374 32.2017 Q 29.2374 36.33, 27.1972 38.6821 Q 25.1571 41.0103, 21.4369 41.0103 Q 17.6926 41.0103, 15.6525 38.6821 Q 13.6364 36.354, 13.6364 32.2017 M 21.4369 39.0901 Q 24.029 39.0901, 25.4211 37.362 Q 26.8372 35.6099, 26.8372 32.2017 Q 26.8372 28.8655, 25.4211 27.1854 Q 24.029 25.4813, 21.4369 25.4813 Q 18.8447 25.4813, 17.4286 27.1614 Q 16.0365 28.8415, 16.0365 32.2017 Q 16.0365 35.6339, 17.4286 37.362 Q 18.8447 39.0901, 21.4369 39.0901 \" fill=\"#FF0000\"/>\n",
       "<path class=\"atom-12\" d=\"M 117.566 32.2017 Q 117.566 28.1214, 119.582 25.8413 Q 121.598 23.5611, 125.367 23.5611 Q 129.135 23.5611, 131.151 25.8413 Q 133.167 28.1214, 133.167 32.2017 Q 133.167 36.33, 131.127 38.6821 Q 129.087 41.0103, 125.367 41.0103 Q 121.622 41.0103, 119.582 38.6821 Q 117.566 36.354, 117.566 32.2017 M 125.367 39.0901 Q 127.959 39.0901, 129.351 37.362 Q 130.767 35.6099, 130.767 32.2017 Q 130.767 28.8655, 129.351 27.1854 Q 127.959 25.4813, 125.367 25.4813 Q 122.775 25.4813, 121.358 27.1614 Q 119.966 28.8415, 119.966 32.2017 Q 119.966 35.6339, 121.358 37.362 Q 122.775 39.0901, 125.367 39.0901 \" fill=\"#FF0000\"/>\n",
       "<path class=\"atom-12\" d=\"M 135.207 23.7531 L 137.511 23.7531 L 137.511 30.9776 L 146.2 30.9776 L 146.2 23.7531 L 148.504 23.7531 L 148.504 40.7463 L 146.2 40.7463 L 146.2 32.8977 L 137.511 32.8977 L 137.511 40.7463 L 135.207 40.7463 L 135.207 23.7531 \" fill=\"#FF0000\"/>\n",
       "<path class=\"atom-13\" d=\"M 141.972 97.3932 Q 141.972 93.313, 143.988 91.0328 Q 146.004 88.7527, 149.772 88.7527 Q 153.541 88.7527, 155.557 91.0328 Q 157.573 93.313, 157.573 97.3932 Q 157.573 101.521, 155.533 103.874 Q 153.493 106.202, 149.772 106.202 Q 146.028 106.202, 143.988 103.874 Q 141.972 101.545, 141.972 97.3932 M 149.772 104.282 Q 152.365 104.282, 153.757 102.554 Q 155.173 100.801, 155.173 97.3932 Q 155.173 94.057, 153.757 92.3769 Q 152.365 90.6728, 149.772 90.6728 Q 147.18 90.6728, 145.764 92.3529 Q 144.372 94.033, 144.372 97.3932 Q 144.372 100.825, 145.764 102.554 Q 147.18 104.282, 149.772 104.282 \" fill=\"#FF0000\"/>\n",
       "<path class=\"atom-13\" d=\"M 159.613 88.9447 L 161.917 88.9447 L 161.917 96.1691 L 170.606 96.1691 L 170.606 88.9447 L 172.91 88.9447 L 172.91 105.938 L 170.606 105.938 L 170.606 98.0893 L 161.917 98.0893 L 161.917 105.938 L 159.613 105.938 L 159.613 88.9447 \" fill=\"#FF0000\"/>\n",
       "<path class=\"atom-14\" d=\"M 22.2929 200.754 Q 22.2929 196.673, 24.309 194.393 Q 26.3251 192.113, 30.0934 192.113 Q 33.8616 192.113, 35.8777 194.393 Q 37.8939 196.673, 37.8939 200.754 Q 37.8939 204.882, 35.8537 207.234 Q 33.8136 209.562, 30.0934 209.562 Q 26.3491 209.562, 24.309 207.234 Q 22.2929 204.906, 22.2929 200.754 M 30.0934 207.642 Q 32.6855 207.642, 34.0776 205.914 Q 35.4937 204.162, 35.4937 200.754 Q 35.4937 197.417, 34.0776 195.737 Q 32.6855 194.033, 30.0934 194.033 Q 27.5012 194.033, 26.0851 195.713 Q 24.693 197.393, 24.693 200.754 Q 24.693 204.186, 26.0851 205.914 Q 27.5012 207.642, 30.0934 207.642 \" fill=\"#FF0000\"/>\n",
       "</svg>"
      ],
      "text/plain": [
       "<IPython.core.display.SVG object>"
      ]
     },
     "execution_count": 12,
     "metadata": {},
     "output_type": "execute_result"
    }
   ],
   "source": [
    "SVG(moltosvg3(\"C12=CC=CC=C1N(C(C2(CC(=O)O[H])O[H])=O)[H]\",q))"
   ]
  },
  {
   "cell_type": "code",
   "execution_count": null,
   "id": "8a3a592a",
   "metadata": {},
   "outputs": [],
   "source": []
  },
  {
   "cell_type": "code",
   "execution_count": 13,
   "id": "be4c8046",
   "metadata": {},
   "outputs": [
    {
     "data": {
      "image/svg+xml": [
       "<svg xmlns=\"http://www.w3.org/2000/svg\" xmlns:rdkit=\"http://www.rdkit.org/xml\" xmlns:xlink=\"http://www.w3.org/1999/xlink\" version=\"1.1\" baseProfile=\"full\" xml:space=\"preserve\" width=\"300px\" height=\"300px\" viewBox=\"0 0 300 300\">\n",
       "<!-- END OF HEADER -->\n",
       "<rect style=\"opacity:1.0;fill:#FFFFFF;stroke:none\" width=\"300\" height=\"300\" x=\"0\" y=\"0\"> </rect>\n",
       "<path class=\"bond-0 atom-0 atom-1\" d=\"M 13.6364,195.542 L 13.6364,104.058\" style=\"fill:none;fill-rule:evenodd;stroke:#000000;stroke-width:2.0px;stroke-linecap:butt;stroke-linejoin:miter;stroke-opacity:1\"/>\n",
       "<path class=\"bond-0 atom-0 atom-1\" d=\"M 31.9331,181.819 L 31.9331,117.781\" style=\"fill:none;fill-rule:evenodd;stroke:#000000;stroke-width:2.0px;stroke-linecap:butt;stroke-linejoin:miter;stroke-opacity:1\"/>\n",
       "<path class=\"bond-7 atom-5 atom-0\" d=\"M 92.8634,241.284 L 13.6364,195.542\" style=\"fill:none;fill-rule:evenodd;stroke:#000000;stroke-width:2.0px;stroke-linecap:butt;stroke-linejoin:miter;stroke-opacity:1\"/>\n",
       "<path class=\"bond-1 atom-1 atom-2\" d=\"M 13.6364,104.058 L 92.8634,58.3166\" style=\"fill:none;fill-rule:evenodd;stroke:#000000;stroke-width:2.0px;stroke-linecap:butt;stroke-linejoin:miter;stroke-opacity:1\"/>\n",
       "<path class=\"bond-2 atom-2 atom-3\" d=\"M 92.8634,58.3166 L 172.09,104.058\" style=\"fill:none;fill-rule:evenodd;stroke:#000000;stroke-width:2.0px;stroke-linecap:butt;stroke-linejoin:miter;stroke-opacity:1\"/>\n",
       "<path class=\"bond-2 atom-2 atom-3\" d=\"M 95.5991,81.0232 L 151.058,113.042\" style=\"fill:none;fill-rule:evenodd;stroke:#000000;stroke-width:2.0px;stroke-linecap:butt;stroke-linejoin:miter;stroke-opacity:1\"/>\n",
       "<path class=\"bond-3 atom-3 atom-4\" d=\"M 172.09,104.058 L 172.09,195.542\" style=\"fill:none;fill-rule:evenodd;stroke:#000000;stroke-width:2.0px;stroke-linecap:butt;stroke-linejoin:miter;stroke-opacity:1\"/>\n",
       "<path class=\"bond-6 atom-3 atom-7\" d=\"M 172.09,104.058 L 204.614,85.2808\" style=\"fill:none;fill-rule:evenodd;stroke:#000000;stroke-width:2.0px;stroke-linecap:butt;stroke-linejoin:miter;stroke-opacity:1\"/>\n",
       "<path class=\"bond-6 atom-3 atom-7\" d=\"M 204.614,85.2808 L 237.137,66.5034\" style=\"fill:none;fill-rule:evenodd;stroke:#FF0000;stroke-width:2.0px;stroke-linecap:butt;stroke-linejoin:miter;stroke-opacity:1\"/>\n",
       "<path class=\"bond-4 atom-4 atom-5\" d=\"M 172.09,195.542 L 92.8634,241.284\" style=\"fill:none;fill-rule:evenodd;stroke:#000000;stroke-width:2.0px;stroke-linecap:butt;stroke-linejoin:miter;stroke-opacity:1\"/>\n",
       "<path class=\"bond-4 atom-4 atom-5\" d=\"M 151.058,186.558 L 95.5991,218.577\" style=\"fill:none;fill-rule:evenodd;stroke:#000000;stroke-width:2.0px;stroke-linecap:butt;stroke-linejoin:miter;stroke-opacity:1\"/>\n",
       "<path class=\"bond-5 atom-4 atom-6\" d=\"M 172.09,195.542 L 204.614,214.319\" style=\"fill:none;fill-rule:evenodd;stroke:#000000;stroke-width:2.0px;stroke-linecap:butt;stroke-linejoin:miter;stroke-opacity:1\"/>\n",
       "<path class=\"bond-5 atom-4 atom-6\" d=\"M 204.614,214.319 L 237.137,233.097\" style=\"fill:none;fill-rule:evenodd;stroke:#FF0000;stroke-width:2.0px;stroke-linecap:butt;stroke-linejoin:miter;stroke-opacity:1\"/>\n",
       "<path class=\"atom-6\" d=\"M 239.425 241.357 Q 239.425 235.136, 242.498 231.659 Q 245.572 228.183, 251.317 228.183 Q 257.063 228.183, 260.136 231.659 Q 263.21 235.136, 263.21 241.357 Q 263.21 247.651, 260.1 251.237 Q 256.989 254.786, 251.317 254.786 Q 245.609 254.786, 242.498 251.237 Q 239.425 247.687, 239.425 241.357 M 251.317 251.859 Q 255.27 251.859, 257.392 249.224 Q 259.551 246.553, 259.551 241.357 Q 259.551 236.27, 257.392 233.709 Q 255.27 231.111, 251.317 231.111 Q 247.365 231.111, 245.206 233.672 Q 243.084 236.234, 243.084 241.357 Q 243.084 246.59, 245.206 249.224 Q 247.365 251.859, 251.317 251.859 \" fill=\"#FF0000\"/>\n",
       "<path class=\"atom-6\" d=\"M 266.321 228.476 L 269.834 228.476 L 269.834 239.49 L 283.08 239.49 L 283.08 228.476 L 286.593 228.476 L 286.593 254.384 L 283.08 254.384 L 283.08 242.418 L 269.834 242.418 L 269.834 254.384 L 266.321 254.384 L 266.321 228.476 \" fill=\"#FF0000\"/>\n",
       "<path class=\"atom-7\" d=\"M 239.425 58.3897 Q 239.425 52.1689, 242.498 48.6925 Q 245.572 45.2161, 251.317 45.2161 Q 257.063 45.2161, 260.136 48.6925 Q 263.21 52.1689, 263.21 58.3897 Q 263.21 64.6838, 260.1 68.27 Q 256.989 71.8195, 251.317 71.8195 Q 245.609 71.8195, 242.498 68.27 Q 239.425 64.7204, 239.425 58.3897 M 251.317 68.8921 Q 255.27 68.8921, 257.392 66.2573 Q 259.551 63.586, 259.551 58.3897 Q 259.551 53.3033, 257.392 50.7417 Q 255.27 48.1436, 251.317 48.1436 Q 247.365 48.1436, 245.206 50.7051 Q 243.084 53.2667, 243.084 58.3897 Q 243.084 63.6226, 245.206 66.2573 Q 247.365 68.8921, 251.317 68.8921 \" fill=\"#FF0000\"/>\n",
       "<path class=\"atom-7\" d=\"M 266.321 45.5089 L 269.834 45.5089 L 269.834 56.5235 L 283.08 56.5235 L 283.08 45.5089 L 286.593 45.5089 L 286.593 71.417 L 283.08 71.417 L 283.08 59.451 L 269.834 59.451 L 269.834 71.417 L 266.321 71.417 L 266.321 45.5089 \" fill=\"#FF0000\"/>\n",
       "</svg>"
      ],
      "text/plain": [
       "<IPython.core.display.SVG object>"
      ]
     },
     "execution_count": 13,
     "metadata": {},
     "output_type": "execute_result"
    }
   ],
   "source": [
    "SVG(moltosvg2(\"C1=CC=C(C(=C1)O)O\"))"
   ]
  },
  {
   "cell_type": "code",
   "execution_count": 14,
   "id": "90327adf",
   "metadata": {},
   "outputs": [],
   "source": [
    "#SVG(moltosvg2(\"C12=CC=CC=C1C=C([N]2[H])O[H]\"))"
   ]
  },
  {
   "cell_type": "code",
   "execution_count": 15,
   "id": "5b446e52",
   "metadata": {},
   "outputs": [
    {
     "data": {
      "image/svg+xml": [
       "<svg xmlns=\"http://www.w3.org/2000/svg\" xmlns:rdkit=\"http://www.rdkit.org/xml\" xmlns:xlink=\"http://www.w3.org/1999/xlink\" version=\"1.1\" baseProfile=\"full\" xml:space=\"preserve\" width=\"300px\" height=\"300px\" viewBox=\"0 0 300 300\">\n",
       "<!-- END OF HEADER -->\n",
       "<rect style=\"opacity:1.0;fill:#FFFFFF;stroke:none\" width=\"300\" height=\"300\" x=\"0\" y=\"0\"> </rect>\n",
       "<path class=\"bond-0 atom-0 atom-1\" d=\"M 183.066,243.592 L 231.669,271.652\" style=\"fill:none;fill-rule:evenodd;stroke:#000000;stroke-width:2.0px;stroke-linecap:butt;stroke-linejoin:miter;stroke-opacity:1\"/>\n",
       "<path class=\"bond-0 atom-0 atom-1\" d=\"M 195.969,238.08 L 229.991,257.723\" style=\"fill:none;fill-rule:evenodd;stroke:#000000;stroke-width:2.0px;stroke-linecap:butt;stroke-linejoin:miter;stroke-opacity:1\"/>\n",
       "<path class=\"bond-13 atom-5 atom-0\" d=\"M 183.066,187.47 L 183.066,243.592\" style=\"fill:none;fill-rule:evenodd;stroke:#000000;stroke-width:2.0px;stroke-linecap:butt;stroke-linejoin:miter;stroke-opacity:1\"/>\n",
       "<path class=\"bond-14 atom-8 atom-0\" d=\"M 137.122,258.52 L 160.094,251.056\" style=\"fill:none;fill-rule:evenodd;stroke:#0000FF;stroke-width:2.0px;stroke-linecap:butt;stroke-linejoin:miter;stroke-opacity:1\"/>\n",
       "<path class=\"bond-14 atom-8 atom-0\" d=\"M 160.094,251.056 L 183.066,243.592\" style=\"fill:none;fill-rule:evenodd;stroke:#000000;stroke-width:2.0px;stroke-linecap:butt;stroke-linejoin:miter;stroke-opacity:1\"/>\n",
       "<path class=\"bond-1 atom-1 atom-2\" d=\"M 231.669,271.652 L 280.271,243.592\" style=\"fill:none;fill-rule:evenodd;stroke:#000000;stroke-width:2.0px;stroke-linecap:butt;stroke-linejoin:miter;stroke-opacity:1\"/>\n",
       "<path class=\"bond-2 atom-2 atom-3\" d=\"M 280.271,243.592 L 280.271,187.47\" style=\"fill:none;fill-rule:evenodd;stroke:#000000;stroke-width:2.0px;stroke-linecap:butt;stroke-linejoin:miter;stroke-opacity:1\"/>\n",
       "<path class=\"bond-2 atom-2 atom-3\" d=\"M 269.047,235.173 L 269.047,195.889\" style=\"fill:none;fill-rule:evenodd;stroke:#000000;stroke-width:2.0px;stroke-linecap:butt;stroke-linejoin:miter;stroke-opacity:1\"/>\n",
       "<path class=\"bond-3 atom-3 atom-4\" d=\"M 280.271,187.47 L 231.669,159.41\" style=\"fill:none;fill-rule:evenodd;stroke:#000000;stroke-width:2.0px;stroke-linecap:butt;stroke-linejoin:miter;stroke-opacity:1\"/>\n",
       "<path class=\"bond-4 atom-4 atom-5\" d=\"M 231.669,159.41 L 183.066,187.47\" style=\"fill:none;fill-rule:evenodd;stroke:#000000;stroke-width:2.0px;stroke-linecap:butt;stroke-linejoin:miter;stroke-opacity:1\"/>\n",
       "<path class=\"bond-4 atom-4 atom-5\" d=\"M 229.991,173.339 L 195.969,192.982\" style=\"fill:none;fill-rule:evenodd;stroke:#000000;stroke-width:2.0px;stroke-linecap:butt;stroke-linejoin:miter;stroke-opacity:1\"/>\n",
       "<path class=\"bond-5 atom-5 atom-6\" d=\"M 183.066,187.47 L 129.692,170.128\" style=\"fill:none;fill-rule:evenodd;stroke:#000000;stroke-width:2.0px;stroke-linecap:butt;stroke-linejoin:miter;stroke-opacity:1\"/>\n",
       "<path class=\"bond-6 atom-6 atom-7\" d=\"M 129.692,170.128 L 96.7047,215.531\" style=\"fill:none;fill-rule:evenodd;stroke:#000000;stroke-width:2.0px;stroke-linecap:butt;stroke-linejoin:miter;stroke-opacity:1\"/>\n",
       "<path class=\"bond-6 atom-6 atom-7\" d=\"M 133.824,183.536 L 110.733,215.318\" style=\"fill:none;fill-rule:evenodd;stroke:#000000;stroke-width:2.0px;stroke-linecap:butt;stroke-linejoin:miter;stroke-opacity:1\"/>\n",
       "<path class=\"bond-9 atom-6 atom-10\" d=\"M 129.692,170.128 L 112.35,116.754\" style=\"fill:none;fill-rule:evenodd;stroke:#000000;stroke-width:2.0px;stroke-linecap:butt;stroke-linejoin:miter;stroke-opacity:1\"/>\n",
       "<path class=\"bond-7 atom-7 atom-8\" d=\"M 96.7047,215.531 L 109.802,233.558\" style=\"fill:none;fill-rule:evenodd;stroke:#000000;stroke-width:2.0px;stroke-linecap:butt;stroke-linejoin:miter;stroke-opacity:1\"/>\n",
       "<path class=\"bond-7 atom-7 atom-8\" d=\"M 109.802,233.558 L 122.899,251.584\" style=\"fill:none;fill-rule:evenodd;stroke:#0000FF;stroke-width:2.0px;stroke-linecap:butt;stroke-linejoin:miter;stroke-opacity:1\"/>\n",
       "<path class=\"bond-8 atom-7 atom-9\" d=\"M 96.7047,215.531 L 72.9935,215.531\" style=\"fill:none;fill-rule:evenodd;stroke:#000000;stroke-width:2.0px;stroke-linecap:butt;stroke-linejoin:miter;stroke-opacity:1\"/>\n",
       "<path class=\"bond-8 atom-7 atom-9\" d=\"M 72.9935,215.531 L 49.2823,215.531\" style=\"fill:none;fill-rule:evenodd;stroke:#FF0000;stroke-width:2.0px;stroke-linecap:butt;stroke-linejoin:miter;stroke-opacity:1\"/>\n",
       "<path class=\"bond-10 atom-10 atom-11\" d=\"M 112.35,116.754 L 149.902,75.0474\" style=\"fill:none;fill-rule:evenodd;stroke:#000000;stroke-width:2.0px;stroke-linecap:butt;stroke-linejoin:miter;stroke-opacity:1\"/>\n",
       "<path class=\"bond-11 atom-11 atom-12\" d=\"M 149.902,75.0474 L 142.804,53.2034\" style=\"fill:none;fill-rule:evenodd;stroke:#000000;stroke-width:2.0px;stroke-linecap:butt;stroke-linejoin:miter;stroke-opacity:1\"/>\n",
       "<path class=\"bond-11 atom-11 atom-12\" d=\"M 142.804,53.2034 L 135.707,31.3594\" style=\"fill:none;fill-rule:evenodd;stroke:#FF0000;stroke-width:2.0px;stroke-linecap:butt;stroke-linejoin:miter;stroke-opacity:1\"/>\n",
       "<path class=\"bond-12 atom-11 atom-13\" d=\"M 148.735,80.5368 L 171.833,85.4465\" style=\"fill:none;fill-rule:evenodd;stroke:#000000;stroke-width:2.0px;stroke-linecap:butt;stroke-linejoin:miter;stroke-opacity:1\"/>\n",
       "<path class=\"bond-12 atom-11 atom-13\" d=\"M 171.833,85.4465 L 194.931,90.3561\" style=\"fill:none;fill-rule:evenodd;stroke:#FF0000;stroke-width:2.0px;stroke-linecap:butt;stroke-linejoin:miter;stroke-opacity:1\"/>\n",
       "<path class=\"bond-12 atom-11 atom-13\" d=\"M 151.069,69.5579 L 174.167,74.4675\" style=\"fill:none;fill-rule:evenodd;stroke:#000000;stroke-width:2.0px;stroke-linecap:butt;stroke-linejoin:miter;stroke-opacity:1\"/>\n",
       "<path class=\"bond-12 atom-11 atom-13\" d=\"M 174.167,74.4675 L 197.265,79.3771\" style=\"fill:none;fill-rule:evenodd;stroke:#FF0000;stroke-width:2.0px;stroke-linecap:butt;stroke-linejoin:miter;stroke-opacity:1\"/>\n",
       "<path class=\"atom-8\" d=\"M 126.179 252.987 L 131.387 261.405 Q 131.903 262.236, 132.734 263.74 Q 133.564 265.244, 133.609 265.334 L 133.609 252.987 L 135.719 252.987 L 135.719 268.881 L 133.542 268.881 L 127.952 259.677 Q 127.301 258.599, 126.605 257.365 Q 125.932 256.13, 125.73 255.748 L 125.73 268.881 L 123.665 268.881 L 123.665 252.987 L 126.179 252.987 \" fill=\"#0000FF\"/>\n",
       "<path class=\"atom-8\" d=\"M 123.474 270.47 L 125.629 270.47 L 125.629 277.227 L 133.755 277.227 L 133.755 270.47 L 135.91 270.47 L 135.91 286.364 L 133.755 286.364 L 133.755 279.023 L 125.629 279.023 L 125.629 286.364 L 123.474 286.364 L 123.474 270.47 \" fill=\"#0000FF\"/>\n",
       "<path class=\"atom-9\" d=\"M 19.7289 207.674 L 21.8839 207.674 L 21.8839 214.431 L 30.0103 214.431 L 30.0103 207.674 L 32.1653 207.674 L 32.1653 223.568 L 30.0103 223.568 L 30.0103 216.227 L 21.8839 216.227 L 21.8839 223.568 L 19.7289 223.568 L 19.7289 207.674 \" fill=\"#FF0000\"/>\n",
       "<path class=\"atom-9\" d=\"M 33.2877 215.576 Q 33.2877 211.76, 35.1734 209.627 Q 37.0591 207.494, 40.5835 207.494 Q 44.1079 207.494, 45.9936 209.627 Q 47.8793 211.76, 47.8793 215.576 Q 47.8793 219.437, 45.9711 221.637 Q 44.063 223.814, 40.5835 223.814 Q 37.0815 223.814, 35.1734 221.637 Q 33.2877 219.459, 33.2877 215.576 M 40.5835 222.019 Q 43.0079 222.019, 44.3099 220.402 Q 45.6344 218.764, 45.6344 215.576 Q 45.6344 212.456, 44.3099 210.884 Q 43.0079 209.29, 40.5835 209.29 Q 38.1591 209.29, 36.8346 210.862 Q 35.5326 212.433, 35.5326 215.576 Q 35.5326 218.786, 36.8346 220.402 Q 38.1591 222.019, 40.5835 222.019 \" fill=\"#FF0000\"/>\n",
       "<path class=\"atom-12\" d=\"M 125.264 21.7178 Q 125.264 17.9016, 127.149 15.769 Q 129.035 13.6364, 132.56 13.6364 Q 136.084 13.6364, 137.97 15.769 Q 139.855 17.9016, 139.855 21.7178 Q 139.855 25.579, 137.947 27.7789 Q 136.039 29.9564, 132.56 29.9564 Q 129.058 29.9564, 127.149 27.7789 Q 125.264 25.6014, 125.264 21.7178 M 132.56 28.1605 Q 134.984 28.1605, 136.286 26.5442 Q 137.61 24.9055, 137.61 21.7178 Q 137.61 18.5975, 136.286 17.0261 Q 134.984 15.4322, 132.56 15.4322 Q 130.135 15.4322, 128.811 17.0036 Q 127.509 18.575, 127.509 21.7178 Q 127.509 24.928, 128.811 26.5442 Q 130.135 28.1605, 132.56 28.1605 \" fill=\"#FF0000\"/>\n",
       "<path class=\"atom-12\" d=\"M 141.763 13.816 L 143.918 13.816 L 143.918 20.5729 L 152.045 20.5729 L 152.045 13.816 L 154.2 13.816 L 154.2 29.7095 L 152.045 29.7095 L 152.045 22.3688 L 143.918 22.3688 L 143.918 29.7095 L 141.763 29.7095 L 141.763 13.816 \" fill=\"#FF0000\"/>\n",
       "<path class=\"atom-13\" d=\"M 197.501 86.7605 Q 197.501 82.9443, 199.387 80.8117 Q 201.272 78.6791, 204.797 78.6791 Q 208.321 78.6791, 210.207 80.8117 Q 212.093 82.9443, 212.093 86.7605 Q 212.093 90.6216, 210.184 92.8216 Q 208.276 94.9991, 204.797 94.9991 Q 201.295 94.9991, 199.387 92.8216 Q 197.501 90.6441, 197.501 86.7605 M 204.797 93.2032 Q 207.221 93.2032, 208.523 91.5869 Q 209.848 89.9482, 209.848 86.7605 Q 209.848 83.6402, 208.523 82.0688 Q 207.221 80.4749, 204.797 80.4749 Q 202.372 80.4749, 201.048 82.0463 Q 199.746 83.6177, 199.746 86.7605 Q 199.746 89.9706, 201.048 91.5869 Q 202.372 93.2032, 204.797 93.2032 \" fill=\"#FF0000\"/>\n",
       "</svg>"
      ],
      "text/plain": [
       "<IPython.core.display.SVG object>"
      ]
     },
     "execution_count": 15,
     "metadata": {},
     "output_type": "execute_result"
    }
   ],
   "source": [
    "SVG(moltosvg3(\"C12=CC=CC=C1C(=C([N]2[H])O[H])CC(O[H])=O\",t))"
   ]
  },
  {
   "cell_type": "code",
   "execution_count": 16,
   "id": "387693bc",
   "metadata": {},
   "outputs": [
    {
     "data": {
      "image/svg+xml": [
       "<svg xmlns=\"http://www.w3.org/2000/svg\" xmlns:rdkit=\"http://www.rdkit.org/xml\" xmlns:xlink=\"http://www.w3.org/1999/xlink\" version=\"1.1\" baseProfile=\"full\" xml:space=\"preserve\" width=\"300px\" height=\"300px\" viewBox=\"0 0 300 300\">\n",
       "<!-- END OF HEADER -->\n",
       "<rect style=\"opacity:1.0;fill:#FFFFFF;stroke:none\" width=\"300\" height=\"300\" x=\"0\" y=\"0\"> </rect>\n",
       "<path class=\"bond-0 atom-0 atom-1\" d=\"M 176.287,243.592 L 224.889,271.652\" style=\"fill:none;fill-rule:evenodd;stroke:#000000;stroke-width:2.0px;stroke-linecap:butt;stroke-linejoin:miter;stroke-opacity:1\"/>\n",
       "<path class=\"bond-0 atom-0 atom-1\" d=\"M 189.189,238.08 L 223.211,257.723\" style=\"fill:none;fill-rule:evenodd;stroke:#000000;stroke-width:2.0px;stroke-linecap:butt;stroke-linejoin:miter;stroke-opacity:1\"/>\n",
       "<path class=\"bond-13 atom-5 atom-0\" d=\"M 176.287,187.47 L 176.287,243.592\" style=\"fill:none;fill-rule:evenodd;stroke:#000000;stroke-width:2.0px;stroke-linecap:butt;stroke-linejoin:miter;stroke-opacity:1\"/>\n",
       "<path class=\"bond-14 atom-8 atom-0\" d=\"M 130.343,258.52 L 153.315,251.056\" style=\"fill:none;fill-rule:evenodd;stroke:#0000FF;stroke-width:2.0px;stroke-linecap:butt;stroke-linejoin:miter;stroke-opacity:1\"/>\n",
       "<path class=\"bond-14 atom-8 atom-0\" d=\"M 153.315,251.056 L 176.287,243.592\" style=\"fill:none;fill-rule:evenodd;stroke:#000000;stroke-width:2.0px;stroke-linecap:butt;stroke-linejoin:miter;stroke-opacity:1\"/>\n",
       "<path class=\"bond-1 atom-1 atom-2\" d=\"M 224.889,271.652 L 273.492,243.592\" style=\"fill:none;fill-rule:evenodd;stroke:#000000;stroke-width:2.0px;stroke-linecap:butt;stroke-linejoin:miter;stroke-opacity:1\"/>\n",
       "<path class=\"bond-2 atom-2 atom-3\" d=\"M 273.492,243.592 L 273.492,187.47\" style=\"fill:none;fill-rule:evenodd;stroke:#000000;stroke-width:2.0px;stroke-linecap:butt;stroke-linejoin:miter;stroke-opacity:1\"/>\n",
       "<path class=\"bond-2 atom-2 atom-3\" d=\"M 262.267,235.173 L 262.267,195.889\" style=\"fill:none;fill-rule:evenodd;stroke:#000000;stroke-width:2.0px;stroke-linecap:butt;stroke-linejoin:miter;stroke-opacity:1\"/>\n",
       "<path class=\"bond-3 atom-3 atom-4\" d=\"M 273.492,187.47 L 224.889,159.41\" style=\"fill:none;fill-rule:evenodd;stroke:#000000;stroke-width:2.0px;stroke-linecap:butt;stroke-linejoin:miter;stroke-opacity:1\"/>\n",
       "<path class=\"bond-4 atom-4 atom-5\" d=\"M 224.889,159.41 L 176.287,187.47\" style=\"fill:none;fill-rule:evenodd;stroke:#000000;stroke-width:2.0px;stroke-linecap:butt;stroke-linejoin:miter;stroke-opacity:1\"/>\n",
       "<path class=\"bond-4 atom-4 atom-5\" d=\"M 223.211,173.339 L 189.189,192.982\" style=\"fill:none;fill-rule:evenodd;stroke:#000000;stroke-width:2.0px;stroke-linecap:butt;stroke-linejoin:miter;stroke-opacity:1\"/>\n",
       "<path class=\"bond-5 atom-5 atom-6\" d=\"M 176.287,187.47 L 122.912,170.128\" style=\"fill:none;fill-rule:evenodd;stroke:#000000;stroke-width:2.0px;stroke-linecap:butt;stroke-linejoin:miter;stroke-opacity:1\"/>\n",
       "<path class=\"bond-6 atom-6 atom-7\" d=\"M 122.912,170.128 L 89.9253,215.531\" style=\"fill:none;fill-rule:evenodd;stroke:#000000;stroke-width:2.0px;stroke-linecap:butt;stroke-linejoin:miter;stroke-opacity:1\"/>\n",
       "<path class=\"bond-9 atom-6 atom-10\" d=\"M 122.912,170.128 L 105.57,116.754\" style=\"fill:none;fill-rule:evenodd;stroke:#000000;stroke-width:2.0px;stroke-linecap:butt;stroke-linejoin:miter;stroke-opacity:1\"/>\n",
       "<path class=\"bond-7 atom-7 atom-8\" d=\"M 89.9253,215.531 L 103.022,233.558\" style=\"fill:none;fill-rule:evenodd;stroke:#000000;stroke-width:2.0px;stroke-linecap:butt;stroke-linejoin:miter;stroke-opacity:1\"/>\n",
       "<path class=\"bond-7 atom-7 atom-8\" d=\"M 103.022,233.558 L 116.119,251.584\" style=\"fill:none;fill-rule:evenodd;stroke:#0000FF;stroke-width:2.0px;stroke-linecap:butt;stroke-linejoin:miter;stroke-opacity:1\"/>\n",
       "<path class=\"bond-8 atom-7 atom-9\" d=\"M 89.9253,209.919 L 66.2141,209.919\" style=\"fill:none;fill-rule:evenodd;stroke:#000000;stroke-width:2.0px;stroke-linecap:butt;stroke-linejoin:miter;stroke-opacity:1\"/>\n",
       "<path class=\"bond-8 atom-7 atom-9\" d=\"M 66.2141,209.919 L 42.5028,209.919\" style=\"fill:none;fill-rule:evenodd;stroke:#FF0000;stroke-width:2.0px;stroke-linecap:butt;stroke-linejoin:miter;stroke-opacity:1\"/>\n",
       "<path class=\"bond-8 atom-7 atom-9\" d=\"M 89.9253,221.143 L 66.2141,221.143\" style=\"fill:none;fill-rule:evenodd;stroke:#000000;stroke-width:2.0px;stroke-linecap:butt;stroke-linejoin:miter;stroke-opacity:1\"/>\n",
       "<path class=\"bond-8 atom-7 atom-9\" d=\"M 66.2141,221.143 L 42.5028,221.143\" style=\"fill:none;fill-rule:evenodd;stroke:#FF0000;stroke-width:2.0px;stroke-linecap:butt;stroke-linejoin:miter;stroke-opacity:1\"/>\n",
       "<path class=\"bond-10 atom-10 atom-11\" d=\"M 105.57,116.754 L 143.122,75.0474\" style=\"fill:none;fill-rule:evenodd;stroke:#000000;stroke-width:2.0px;stroke-linecap:butt;stroke-linejoin:miter;stroke-opacity:1\"/>\n",
       "<path class=\"bond-11 atom-11 atom-12\" d=\"M 143.122,75.0474 L 136.025,53.2034\" style=\"fill:none;fill-rule:evenodd;stroke:#000000;stroke-width:2.0px;stroke-linecap:butt;stroke-linejoin:miter;stroke-opacity:1\"/>\n",
       "<path class=\"bond-11 atom-11 atom-12\" d=\"M 136.025,53.2034 L 128.927,31.3594\" style=\"fill:none;fill-rule:evenodd;stroke:#FF0000;stroke-width:2.0px;stroke-linecap:butt;stroke-linejoin:miter;stroke-opacity:1\"/>\n",
       "<path class=\"bond-12 atom-11 atom-13\" d=\"M 141.956,80.5368 L 165.054,85.4465\" style=\"fill:none;fill-rule:evenodd;stroke:#000000;stroke-width:2.0px;stroke-linecap:butt;stroke-linejoin:miter;stroke-opacity:1\"/>\n",
       "<path class=\"bond-12 atom-11 atom-13\" d=\"M 165.054,85.4465 L 188.152,90.3561\" style=\"fill:none;fill-rule:evenodd;stroke:#FF0000;stroke-width:2.0px;stroke-linecap:butt;stroke-linejoin:miter;stroke-opacity:1\"/>\n",
       "<path class=\"bond-12 atom-11 atom-13\" d=\"M 144.289,69.5579 L 167.387,74.4675\" style=\"fill:none;fill-rule:evenodd;stroke:#000000;stroke-width:2.0px;stroke-linecap:butt;stroke-linejoin:miter;stroke-opacity:1\"/>\n",
       "<path class=\"bond-12 atom-11 atom-13\" d=\"M 167.387,74.4675 L 190.485,79.3771\" style=\"fill:none;fill-rule:evenodd;stroke:#FF0000;stroke-width:2.0px;stroke-linecap:butt;stroke-linejoin:miter;stroke-opacity:1\"/>\n",
       "<path class=\"atom-8\" d=\"M 119.399 252.987 L 124.607 261.405 Q 125.124 262.236, 125.954 263.74 Q 126.785 265.244, 126.83 265.334 L 126.83 252.987 L 128.94 252.987 L 128.94 268.881 L 126.762 268.881 L 121.173 259.677 Q 120.522 258.599, 119.826 257.365 Q 119.152 256.13, 118.95 255.748 L 118.95 268.881 L 116.885 268.881 L 116.885 252.987 L 119.399 252.987 \" fill=\"#0000FF\"/>\n",
       "<path class=\"atom-8\" d=\"M 116.694 270.47 L 118.849 270.47 L 118.849 277.227 L 126.976 277.227 L 126.976 270.47 L 129.131 270.47 L 129.131 286.364 L 126.976 286.364 L 126.976 279.023 L 118.849 279.023 L 118.849 286.364 L 116.694 286.364 L 116.694 270.47 \" fill=\"#0000FF\"/>\n",
       "<path class=\"atom-9\" d=\"M 26.5083 215.576 Q 26.5083 211.76, 28.394 209.627 Q 30.2796 207.494, 33.8041 207.494 Q 37.3285 207.494, 39.2141 209.627 Q 41.0998 211.76, 41.0998 215.576 Q 41.0998 219.437, 39.1917 221.637 Q 37.2836 223.814, 33.8041 223.814 Q 30.3021 223.814, 28.394 221.637 Q 26.5083 219.459, 26.5083 215.576 M 33.8041 222.019 Q 36.2285 222.019, 37.5305 220.402 Q 38.855 218.764, 38.855 215.576 Q 38.855 212.456, 37.5305 210.884 Q 36.2285 209.29, 33.8041 209.29 Q 31.3796 209.29, 30.0552 210.862 Q 28.7532 212.433, 28.7532 215.576 Q 28.7532 218.786, 30.0552 220.402 Q 31.3796 222.019, 33.8041 222.019 \" fill=\"#FF0000\"/>\n",
       "<path class=\"atom-12\" d=\"M 118.484 21.7178 Q 118.484 17.9016, 120.37 15.769 Q 122.256 13.6364, 125.78 13.6364 Q 129.304 13.6364, 131.19 15.769 Q 133.076 17.9016, 133.076 21.7178 Q 133.076 25.579, 131.168 27.7789 Q 129.26 29.9564, 125.78 29.9564 Q 122.278 29.9564, 120.37 27.7789 Q 118.484 25.6014, 118.484 21.7178 M 125.78 28.1605 Q 128.205 28.1605, 129.507 26.5442 Q 130.831 24.9055, 130.831 21.7178 Q 130.831 18.5975, 129.507 17.0261 Q 128.205 15.4322, 125.78 15.4322 Q 123.356 15.4322, 122.031 17.0036 Q 120.729 18.575, 120.729 21.7178 Q 120.729 24.928, 122.031 26.5442 Q 123.356 28.1605, 125.78 28.1605 \" fill=\"#FF0000\"/>\n",
       "<path class=\"atom-12\" d=\"M 134.984 13.816 L 137.139 13.816 L 137.139 20.5729 L 145.265 20.5729 L 145.265 13.816 L 147.42 13.816 L 147.42 29.7095 L 145.265 29.7095 L 145.265 22.3688 L 137.139 22.3688 L 137.139 29.7095 L 134.984 29.7095 L 134.984 13.816 \" fill=\"#FF0000\"/>\n",
       "<path class=\"atom-13\" d=\"M 190.722 86.7605 Q 190.722 82.9443, 192.607 80.8117 Q 194.493 78.6791, 198.017 78.6791 Q 201.542 78.6791, 203.427 80.8117 Q 205.313 82.9443, 205.313 86.7605 Q 205.313 90.6216, 203.405 92.8216 Q 201.497 94.9991, 198.017 94.9991 Q 194.515 94.9991, 192.607 92.8216 Q 190.722 90.6441, 190.722 86.7605 M 198.017 93.2032 Q 200.442 93.2032, 201.744 91.5869 Q 203.068 89.9482, 203.068 86.7605 Q 203.068 83.6402, 201.744 82.0688 Q 200.442 80.4749, 198.017 80.4749 Q 195.593 80.4749, 194.268 82.0463 Q 192.966 83.6177, 192.966 86.7605 Q 192.966 89.9706, 194.268 91.5869 Q 195.593 93.2032, 198.017 93.2032 \" fill=\"#FF0000\"/>\n",
       "</svg>"
      ],
      "text/plain": [
       "<IPython.core.display.SVG object>"
      ]
     },
     "execution_count": 16,
     "metadata": {},
     "output_type": "execute_result"
    }
   ],
   "source": [
    "SVG(moltosvg3(\"C12=CC=CC=C1C(C(N2[H])=O)CC(O[H])=O\",z))"
   ]
  },
  {
   "cell_type": "code",
   "execution_count": 17,
   "id": "defc22ad",
   "metadata": {},
   "outputs": [],
   "source": [
    "with open('molecule_surfactin_C_1000.svg','w') as f:\n",
    "    f.write(moltosvg2('CC(C)CCCCCCCCCC1CC(=O)NC(C(=O)NC(C(=O)NC(C(=O)NC(C(=O)NC(C(=O)NC(C(=O)NC(C(=O)O1)CC(C)C)CC(C)C)CC(=O)O)C(C)C)CC(C)C)CC(C)C)CCC(=O)O', molSize=(1000,1000)))"
   ]
  },
  {
   "cell_type": "code",
   "execution_count": 18,
   "id": "62331804",
   "metadata": {},
   "outputs": [
    {
     "data": {
      "image/svg+xml": [
       "<svg xmlns=\"http://www.w3.org/2000/svg\" xmlns:rdkit=\"http://www.rdkit.org/xml\" xmlns:xlink=\"http://www.w3.org/1999/xlink\" version=\"1.1\" baseProfile=\"full\" xml:space=\"preserve\" width=\"400px\" height=\"400px\" viewBox=\"0 0 400 400\">\n",
       "<!-- END OF HEADER -->\n",
       "<rect style=\"opacity:1.0;fill:#FFFFFF;stroke:none\" width=\"400\" height=\"400\" x=\"0\" y=\"0\"> </rect>\n",
       "<path class=\"bond-0 atom-0 atom-1\" d=\"M 18.1818,210.793 L 35.1433,203.523\" style=\"fill:none;fill-rule:evenodd;stroke:#000000;stroke-width:2.0px;stroke-linecap:butt;stroke-linejoin:miter;stroke-opacity:1\"/>\n",
       "<path class=\"bond-1 atom-1 atom-2\" d=\"M 35.1433,203.523 L 37.328,185.199\" style=\"fill:none;fill-rule:evenodd;stroke:#000000;stroke-width:2.0px;stroke-linecap:butt;stroke-linejoin:miter;stroke-opacity:1\"/>\n",
       "<path class=\"bond-2 atom-1 atom-3\" d=\"M 35.1433,203.523 L 49.92,214.577\" style=\"fill:none;fill-rule:evenodd;stroke:#000000;stroke-width:2.0px;stroke-linecap:butt;stroke-linejoin:miter;stroke-opacity:1\"/>\n",
       "<path class=\"bond-3 atom-3 atom-4\" d=\"M 49.92,214.577 L 66.8815,207.307\" style=\"fill:none;fill-rule:evenodd;stroke:#000000;stroke-width:2.0px;stroke-linecap:butt;stroke-linejoin:miter;stroke-opacity:1\"/>\n",
       "<path class=\"bond-4 atom-4 atom-5\" d=\"M 66.8815,207.307 L 81.6582,218.361\" style=\"fill:none;fill-rule:evenodd;stroke:#000000;stroke-width:2.0px;stroke-linecap:butt;stroke-linejoin:miter;stroke-opacity:1\"/>\n",
       "<path class=\"bond-5 atom-5 atom-6\" d=\"M 81.6582,218.361 L 98.6197,211.091\" style=\"fill:none;fill-rule:evenodd;stroke:#000000;stroke-width:2.0px;stroke-linecap:butt;stroke-linejoin:miter;stroke-opacity:1\"/>\n",
       "<path class=\"bond-6 atom-6 atom-7\" d=\"M 98.6197,211.091 L 113.396,222.145\" style=\"fill:none;fill-rule:evenodd;stroke:#000000;stroke-width:2.0px;stroke-linecap:butt;stroke-linejoin:miter;stroke-opacity:1\"/>\n",
       "<path class=\"bond-7 atom-7 atom-8\" d=\"M 113.396,222.145 L 130.358,214.875\" style=\"fill:none;fill-rule:evenodd;stroke:#000000;stroke-width:2.0px;stroke-linecap:butt;stroke-linejoin:miter;stroke-opacity:1\"/>\n",
       "<path class=\"bond-8 atom-8 atom-9\" d=\"M 130.358,214.875 L 145.135,225.929\" style=\"fill:none;fill-rule:evenodd;stroke:#000000;stroke-width:2.0px;stroke-linecap:butt;stroke-linejoin:miter;stroke-opacity:1\"/>\n",
       "<path class=\"bond-9 atom-9 atom-10\" d=\"M 145.135,225.929 L 162.096,218.659\" style=\"fill:none;fill-rule:evenodd;stroke:#000000;stroke-width:2.0px;stroke-linecap:butt;stroke-linejoin:miter;stroke-opacity:1\"/>\n",
       "<path class=\"bond-10 atom-10 atom-11\" d=\"M 162.096,218.659 L 176.873,229.713\" style=\"fill:none;fill-rule:evenodd;stroke:#000000;stroke-width:2.0px;stroke-linecap:butt;stroke-linejoin:miter;stroke-opacity:1\"/>\n",
       "<path class=\"bond-11 atom-11 atom-12\" d=\"M 176.873,229.713 L 193.834,222.443\" style=\"fill:none;fill-rule:evenodd;stroke:#000000;stroke-width:2.0px;stroke-linecap:butt;stroke-linejoin:miter;stroke-opacity:1\"/>\n",
       "<path class=\"bond-12 atom-12 atom-13\" d=\"M 193.834,222.443 L 201.352,235.256\" style=\"fill:none;fill-rule:evenodd;stroke:#000000;stroke-width:2.0px;stroke-linecap:butt;stroke-linejoin:miter;stroke-opacity:1\"/>\n",
       "<path class=\"bond-72 atom-44 atom-12\" d=\"M 189.661,207.89 L 191.747,215.166\" style=\"fill:none;fill-rule:evenodd;stroke:#FF0000;stroke-width:2.0px;stroke-linecap:butt;stroke-linejoin:miter;stroke-opacity:1\"/>\n",
       "<path class=\"bond-72 atom-44 atom-12\" d=\"M 191.747,215.166 L 193.834,222.443\" style=\"fill:none;fill-rule:evenodd;stroke:#000000;stroke-width:2.0px;stroke-linecap:butt;stroke-linejoin:miter;stroke-opacity:1\"/>\n",
       "<path class=\"bond-13 atom-13 atom-14\" d=\"M 205.649,240.854 L 216.176,251.454\" style=\"fill:none;fill-rule:evenodd;stroke:#000000;stroke-width:2.0px;stroke-linecap:butt;stroke-linejoin:miter;stroke-opacity:1\"/>\n",
       "<path class=\"bond-14 atom-14 atom-15\" d=\"M 214.722,250.318 L 210.254,256.037\" style=\"fill:none;fill-rule:evenodd;stroke:#000000;stroke-width:2.0px;stroke-linecap:butt;stroke-linejoin:miter;stroke-opacity:1\"/>\n",
       "<path class=\"bond-14 atom-14 atom-15\" d=\"M 210.254,256.037 L 205.786,261.756\" style=\"fill:none;fill-rule:evenodd;stroke:#FF0000;stroke-width:2.0px;stroke-linecap:butt;stroke-linejoin:miter;stroke-opacity:1\"/>\n",
       "<path class=\"bond-14 atom-14 atom-15\" d=\"M 217.63,252.59 L 213.162,258.309\" style=\"fill:none;fill-rule:evenodd;stroke:#000000;stroke-width:2.0px;stroke-linecap:butt;stroke-linejoin:miter;stroke-opacity:1\"/>\n",
       "<path class=\"bond-14 atom-14 atom-15\" d=\"M 213.162,258.309 L 208.694,264.028\" style=\"fill:none;fill-rule:evenodd;stroke:#FF0000;stroke-width:2.0px;stroke-linecap:butt;stroke-linejoin:miter;stroke-opacity:1\"/>\n",
       "<path class=\"bond-15 atom-14 atom-16\" d=\"M 216.176,251.454 L 221.523,254.641\" style=\"fill:none;fill-rule:evenodd;stroke:#000000;stroke-width:2.0px;stroke-linecap:butt;stroke-linejoin:miter;stroke-opacity:1\"/>\n",
       "<path class=\"bond-15 atom-14 atom-16\" d=\"M 221.523,254.641 L 226.87,257.828\" style=\"fill:none;fill-rule:evenodd;stroke:#0000FF;stroke-width:2.0px;stroke-linecap:butt;stroke-linejoin:miter;stroke-opacity:1\"/>\n",
       "<path class=\"bond-16 atom-16 atom-17\" d=\"M 234.471,261.622 L 242.101,263.867\" style=\"fill:none;fill-rule:evenodd;stroke:#0000FF;stroke-width:2.0px;stroke-linecap:butt;stroke-linejoin:miter;stroke-opacity:1\"/>\n",
       "<path class=\"bond-16 atom-16 atom-17\" d=\"M 242.101,263.867 L 249.73,266.113\" style=\"fill:none;fill-rule:evenodd;stroke:#000000;stroke-width:2.0px;stroke-linecap:butt;stroke-linejoin:miter;stroke-opacity:1\"/>\n",
       "<path class=\"bond-17 atom-17 atom-18\" d=\"M 249.73,266.113 L 268.173,266.757\" style=\"fill:none;fill-rule:evenodd;stroke:#000000;stroke-width:2.0px;stroke-linecap:butt;stroke-linejoin:miter;stroke-opacity:1\"/>\n",
       "<path class=\"bond-67 atom-17 atom-68\" d=\"M 249.73,266.113 L 246.78,284.329\" style=\"fill:none;fill-rule:evenodd;stroke:#000000;stroke-width:2.0px;stroke-linecap:butt;stroke-linejoin:miter;stroke-opacity:1\"/>\n",
       "<path class=\"bond-18 atom-18 atom-19\" d=\"M 266.335,266.924 L 267.03,274.561\" style=\"fill:none;fill-rule:evenodd;stroke:#000000;stroke-width:2.0px;stroke-linecap:butt;stroke-linejoin:miter;stroke-opacity:1\"/>\n",
       "<path class=\"bond-18 atom-18 atom-19\" d=\"M 267.03,274.561 L 267.726,282.198\" style=\"fill:none;fill-rule:evenodd;stroke:#FF0000;stroke-width:2.0px;stroke-linecap:butt;stroke-linejoin:miter;stroke-opacity:1\"/>\n",
       "<path class=\"bond-18 atom-18 atom-19\" d=\"M 270.011,266.589 L 270.706,274.226\" style=\"fill:none;fill-rule:evenodd;stroke:#000000;stroke-width:2.0px;stroke-linecap:butt;stroke-linejoin:miter;stroke-opacity:1\"/>\n",
       "<path class=\"bond-18 atom-18 atom-19\" d=\"M 270.706,274.226 L 271.401,281.863\" style=\"fill:none;fill-rule:evenodd;stroke:#FF0000;stroke-width:2.0px;stroke-linecap:butt;stroke-linejoin:miter;stroke-opacity:1\"/>\n",
       "<path class=\"bond-19 atom-18 atom-20\" d=\"M 268.173,266.757 L 275.963,265.044\" style=\"fill:none;fill-rule:evenodd;stroke:#000000;stroke-width:2.0px;stroke-linecap:butt;stroke-linejoin:miter;stroke-opacity:1\"/>\n",
       "<path class=\"bond-19 atom-18 atom-20\" d=\"M 275.963,265.044 L 283.753,263.331\" style=\"fill:none;fill-rule:evenodd;stroke:#0000FF;stroke-width:2.0px;stroke-linecap:butt;stroke-linejoin:miter;stroke-opacity:1\"/>\n",
       "<path class=\"bond-20 atom-20 atom-21\" d=\"M 288.64,261.559 L 295.654,258.016\" style=\"fill:none;fill-rule:evenodd;stroke:#0000FF;stroke-width:2.0px;stroke-linecap:butt;stroke-linejoin:miter;stroke-opacity:1\"/>\n",
       "<path class=\"bond-20 atom-20 atom-21\" d=\"M 295.654,258.016 L 302.668,254.473\" style=\"fill:none;fill-rule:evenodd;stroke:#000000;stroke-width:2.0px;stroke-linecap:butt;stroke-linejoin:miter;stroke-opacity:1\"/>\n",
       "<path class=\"bond-21 atom-21 atom-22\" d=\"M 302.668,254.473 L 316.553,242.317\" style=\"fill:none;fill-rule:evenodd;stroke:#000000;stroke-width:2.0px;stroke-linecap:butt;stroke-linejoin:miter;stroke-opacity:1\"/>\n",
       "<path class=\"bond-63 atom-21 atom-64\" d=\"M 302.668,254.473 L 312.987,269.772\" style=\"fill:none;fill-rule:evenodd;stroke:#000000;stroke-width:2.0px;stroke-linecap:butt;stroke-linejoin:miter;stroke-opacity:1\"/>\n",
       "<path class=\"bond-22 atom-22 atom-23\" d=\"M 315.505,243.836 L 320.933,247.581\" style=\"fill:none;fill-rule:evenodd;stroke:#000000;stroke-width:2.0px;stroke-linecap:butt;stroke-linejoin:miter;stroke-opacity:1\"/>\n",
       "<path class=\"bond-22 atom-22 atom-23\" d=\"M 320.933,247.581 L 326.362,251.326\" style=\"fill:none;fill-rule:evenodd;stroke:#FF0000;stroke-width:2.0px;stroke-linecap:butt;stroke-linejoin:miter;stroke-opacity:1\"/>\n",
       "<path class=\"bond-22 atom-22 atom-23\" d=\"M 317.6,240.798 L 323.029,244.543\" style=\"fill:none;fill-rule:evenodd;stroke:#000000;stroke-width:2.0px;stroke-linecap:butt;stroke-linejoin:miter;stroke-opacity:1\"/>\n",
       "<path class=\"bond-22 atom-22 atom-23\" d=\"M 323.029,244.543 L 328.458,248.288\" style=\"fill:none;fill-rule:evenodd;stroke:#FF0000;stroke-width:2.0px;stroke-linecap:butt;stroke-linejoin:miter;stroke-opacity:1\"/>\n",
       "<path class=\"bond-23 atom-22 atom-24\" d=\"M 316.553,242.317 L 320.713,236.241\" style=\"fill:none;fill-rule:evenodd;stroke:#000000;stroke-width:2.0px;stroke-linecap:butt;stroke-linejoin:miter;stroke-opacity:1\"/>\n",
       "<path class=\"bond-23 atom-22 atom-24\" d=\"M 320.713,236.241 L 324.873,230.165\" style=\"fill:none;fill-rule:evenodd;stroke:#0000FF;stroke-width:2.0px;stroke-linecap:butt;stroke-linejoin:miter;stroke-opacity:1\"/>\n",
       "<path class=\"bond-24 atom-24 atom-25\" d=\"M 328.097,224.016 L 330.693,216.883\" style=\"fill:none;fill-rule:evenodd;stroke:#0000FF;stroke-width:2.0px;stroke-linecap:butt;stroke-linejoin:miter;stroke-opacity:1\"/>\n",
       "<path class=\"bond-24 atom-24 atom-25\" d=\"M 330.693,216.883 L 333.289,209.75\" style=\"fill:none;fill-rule:evenodd;stroke:#000000;stroke-width:2.0px;stroke-linecap:butt;stroke-linejoin:miter;stroke-opacity:1\"/>\n",
       "<path class=\"bond-25 atom-25 atom-26\" d=\"M 333.289,209.75 L 335.09,191.384\" style=\"fill:none;fill-rule:evenodd;stroke:#000000;stroke-width:2.0px;stroke-linecap:butt;stroke-linejoin:miter;stroke-opacity:1\"/>\n",
       "<path class=\"bond-59 atom-25 atom-60\" d=\"M 333.289,209.75 L 351.285,213.838\" style=\"fill:none;fill-rule:evenodd;stroke:#000000;stroke-width:2.0px;stroke-linecap:butt;stroke-linejoin:miter;stroke-opacity:1\"/>\n",
       "<path class=\"bond-26 atom-26 atom-27\" d=\"M 335.366,193.208 L 342.17,192.179\" style=\"fill:none;fill-rule:evenodd;stroke:#000000;stroke-width:2.0px;stroke-linecap:butt;stroke-linejoin:miter;stroke-opacity:1\"/>\n",
       "<path class=\"bond-26 atom-26 atom-27\" d=\"M 342.17,192.179 L 348.973,191.15\" style=\"fill:none;fill-rule:evenodd;stroke:#FF0000;stroke-width:2.0px;stroke-linecap:butt;stroke-linejoin:miter;stroke-opacity:1\"/>\n",
       "<path class=\"bond-26 atom-26 atom-27\" d=\"M 334.814,189.559 L 341.618,188.53\" style=\"fill:none;fill-rule:evenodd;stroke:#000000;stroke-width:2.0px;stroke-linecap:butt;stroke-linejoin:miter;stroke-opacity:1\"/>\n",
       "<path class=\"bond-26 atom-26 atom-27\" d=\"M 341.618,188.53 L 348.421,187.501\" style=\"fill:none;fill-rule:evenodd;stroke:#FF0000;stroke-width:2.0px;stroke-linecap:butt;stroke-linejoin:miter;stroke-opacity:1\"/>\n",
       "<path class=\"bond-27 atom-26 atom-28\" d=\"M 335.09,191.384 L 333.916,183.803\" style=\"fill:none;fill-rule:evenodd;stroke:#000000;stroke-width:2.0px;stroke-linecap:butt;stroke-linejoin:miter;stroke-opacity:1\"/>\n",
       "<path class=\"bond-27 atom-26 atom-28\" d=\"M 333.916,183.803 L 332.743,176.222\" style=\"fill:none;fill-rule:evenodd;stroke:#0000FF;stroke-width:2.0px;stroke-linecap:butt;stroke-linejoin:miter;stroke-opacity:1\"/>\n",
       "<path class=\"bond-28 atom-28 atom-29\" d=\"M 330.949,170.073 L 327.973,163.129\" style=\"fill:none;fill-rule:evenodd;stroke:#0000FF;stroke-width:2.0px;stroke-linecap:butt;stroke-linejoin:miter;stroke-opacity:1\"/>\n",
       "<path class=\"bond-28 atom-28 atom-29\" d=\"M 327.973,163.129 L 324.997,156.186\" style=\"fill:none;fill-rule:evenodd;stroke:#000000;stroke-width:2.0px;stroke-linecap:butt;stroke-linejoin:miter;stroke-opacity:1\"/>\n",
       "<path class=\"bond-29 atom-29 atom-30\" d=\"M 324.997,156.186 L 313.737,141.565\" style=\"fill:none;fill-rule:evenodd;stroke:#000000;stroke-width:2.0px;stroke-linecap:butt;stroke-linejoin:miter;stroke-opacity:1\"/>\n",
       "<path class=\"bond-56 atom-29 atom-57\" d=\"M 324.997,156.186 L 340.913,146.847\" style=\"fill:none;fill-rule:evenodd;stroke:#000000;stroke-width:2.0px;stroke-linecap:butt;stroke-linejoin:miter;stroke-opacity:1\"/>\n",
       "<path class=\"bond-30 atom-30 atom-31\" d=\"M 315.037,142.875 L 320.154,137.793\" style=\"fill:none;fill-rule:evenodd;stroke:#000000;stroke-width:2.0px;stroke-linecap:butt;stroke-linejoin:miter;stroke-opacity:1\"/>\n",
       "<path class=\"bond-30 atom-30 atom-31\" d=\"M 320.154,137.793 L 325.271,132.712\" style=\"fill:none;fill-rule:evenodd;stroke:#FF0000;stroke-width:2.0px;stroke-linecap:butt;stroke-linejoin:miter;stroke-opacity:1\"/>\n",
       "<path class=\"bond-30 atom-30 atom-31\" d=\"M 312.436,140.256 L 317.553,135.174\" style=\"fill:none;fill-rule:evenodd;stroke:#000000;stroke-width:2.0px;stroke-linecap:butt;stroke-linejoin:miter;stroke-opacity:1\"/>\n",
       "<path class=\"bond-30 atom-30 atom-31\" d=\"M 317.553,135.174 L 322.67,130.093\" style=\"fill:none;fill-rule:evenodd;stroke:#FF0000;stroke-width:2.0px;stroke-linecap:butt;stroke-linejoin:miter;stroke-opacity:1\"/>\n",
       "<path class=\"bond-31 atom-30 atom-32\" d=\"M 313.737,141.565 L 308.433,137.422\" style=\"fill:none;fill-rule:evenodd;stroke:#000000;stroke-width:2.0px;stroke-linecap:butt;stroke-linejoin:miter;stroke-opacity:1\"/>\n",
       "<path class=\"bond-31 atom-30 atom-32\" d=\"M 308.433,137.422 L 303.13,133.279\" style=\"fill:none;fill-rule:evenodd;stroke:#0000FF;stroke-width:2.0px;stroke-linecap:butt;stroke-linejoin:miter;stroke-opacity:1\"/>\n",
       "<path class=\"bond-32 atom-32 atom-33\" d=\"M 296.751,129.137 L 289.518,125.977\" style=\"fill:none;fill-rule:evenodd;stroke:#0000FF;stroke-width:2.0px;stroke-linecap:butt;stroke-linejoin:miter;stroke-opacity:1\"/>\n",
       "<path class=\"bond-32 atom-32 atom-33\" d=\"M 289.518,125.977 L 282.284,122.816\" style=\"fill:none;fill-rule:evenodd;stroke:#000000;stroke-width:2.0px;stroke-linecap:butt;stroke-linejoin:miter;stroke-opacity:1\"/>\n",
       "<path class=\"bond-33 atom-33 atom-34\" d=\"M 282.284,122.816 L 264.068,119.866\" style=\"fill:none;fill-rule:evenodd;stroke:#000000;stroke-width:2.0px;stroke-linecap:butt;stroke-linejoin:miter;stroke-opacity:1\"/>\n",
       "<path class=\"bond-52 atom-33 atom-53\" d=\"M 282.284,122.816 L 287.494,105.113\" style=\"fill:none;fill-rule:evenodd;stroke:#000000;stroke-width:2.0px;stroke-linecap:butt;stroke-linejoin:miter;stroke-opacity:1\"/>\n",
       "<path class=\"bond-34 atom-34 atom-35\" d=\"M 265.906,119.705 L 265.39,113.809\" style=\"fill:none;fill-rule:evenodd;stroke:#000000;stroke-width:2.0px;stroke-linecap:butt;stroke-linejoin:miter;stroke-opacity:1\"/>\n",
       "<path class=\"bond-34 atom-34 atom-35\" d=\"M 265.39,113.809 L 264.874,107.912\" style=\"fill:none;fill-rule:evenodd;stroke:#FF0000;stroke-width:2.0px;stroke-linecap:butt;stroke-linejoin:miter;stroke-opacity:1\"/>\n",
       "<path class=\"bond-34 atom-34 atom-35\" d=\"M 262.229,120.027 L 261.713,114.131\" style=\"fill:none;fill-rule:evenodd;stroke:#000000;stroke-width:2.0px;stroke-linecap:butt;stroke-linejoin:miter;stroke-opacity:1\"/>\n",
       "<path class=\"bond-34 atom-34 atom-35\" d=\"M 261.713,114.131 L 261.197,108.234\" style=\"fill:none;fill-rule:evenodd;stroke:#FF0000;stroke-width:2.0px;stroke-linecap:butt;stroke-linejoin:miter;stroke-opacity:1\"/>\n",
       "<path class=\"bond-35 atom-34 atom-36\" d=\"M 264.068,119.866 L 256.1,120.592\" style=\"fill:none;fill-rule:evenodd;stroke:#000000;stroke-width:2.0px;stroke-linecap:butt;stroke-linejoin:miter;stroke-opacity:1\"/>\n",
       "<path class=\"bond-35 atom-34 atom-36\" d=\"M 256.1,120.592 L 248.133,121.317\" style=\"fill:none;fill-rule:evenodd;stroke:#0000FF;stroke-width:2.0px;stroke-linecap:butt;stroke-linejoin:miter;stroke-opacity:1\"/>\n",
       "<path class=\"bond-36 atom-36 atom-37\" d=\"M 243.247,122.409 L 235.776,125.069\" style=\"fill:none;fill-rule:evenodd;stroke:#0000FF;stroke-width:2.0px;stroke-linecap:butt;stroke-linejoin:miter;stroke-opacity:1\"/>\n",
       "<path class=\"bond-36 atom-36 atom-37\" d=\"M 235.776,125.069 L 228.305,127.73\" style=\"fill:none;fill-rule:evenodd;stroke:#000000;stroke-width:2.0px;stroke-linecap:butt;stroke-linejoin:miter;stroke-opacity:1\"/>\n",
       "<path class=\"bond-37 atom-37 atom-38\" d=\"M 228.305,127.73 L 213.007,138.049\" style=\"fill:none;fill-rule:evenodd;stroke:#000000;stroke-width:2.0px;stroke-linecap:butt;stroke-linejoin:miter;stroke-opacity:1\"/>\n",
       "<path class=\"bond-48 atom-37 atom-49\" d=\"M 228.305,127.73 L 219.985,111.258\" style=\"fill:none;fill-rule:evenodd;stroke:#000000;stroke-width:2.0px;stroke-linecap:butt;stroke-linejoin:miter;stroke-opacity:1\"/>\n",
       "<path class=\"bond-38 atom-38 atom-39\" d=\"M 214.237,136.674 L 209.453,132.397\" style=\"fill:none;fill-rule:evenodd;stroke:#000000;stroke-width:2.0px;stroke-linecap:butt;stroke-linejoin:miter;stroke-opacity:1\"/>\n",
       "<path class=\"bond-38 atom-38 atom-39\" d=\"M 209.453,132.397 L 204.669,128.12\" style=\"fill:none;fill-rule:evenodd;stroke:#FF0000;stroke-width:2.0px;stroke-linecap:butt;stroke-linejoin:miter;stroke-opacity:1\"/>\n",
       "<path class=\"bond-38 atom-38 atom-39\" d=\"M 211.777,139.425 L 206.993,135.148\" style=\"fill:none;fill-rule:evenodd;stroke:#000000;stroke-width:2.0px;stroke-linecap:butt;stroke-linejoin:miter;stroke-opacity:1\"/>\n",
       "<path class=\"bond-38 atom-38 atom-39\" d=\"M 206.993,135.148 L 202.209,130.871\" style=\"fill:none;fill-rule:evenodd;stroke:#FF0000;stroke-width:2.0px;stroke-linecap:butt;stroke-linejoin:miter;stroke-opacity:1\"/>\n",
       "<path class=\"bond-39 atom-38 atom-40\" d=\"M 213.007,138.049 L 208.102,143.573\" style=\"fill:none;fill-rule:evenodd;stroke:#000000;stroke-width:2.0px;stroke-linecap:butt;stroke-linejoin:miter;stroke-opacity:1\"/>\n",
       "<path class=\"bond-39 atom-38 atom-40\" d=\"M 208.102,143.573 L 203.198,149.097\" style=\"fill:none;fill-rule:evenodd;stroke:#0000FF;stroke-width:2.0px;stroke-linecap:butt;stroke-linejoin:miter;stroke-opacity:1\"/>\n",
       "<path class=\"bond-40 atom-40 atom-41\" d=\"M 199.175,154.924 L 195.747,161.593\" style=\"fill:none;fill-rule:evenodd;stroke:#0000FF;stroke-width:2.0px;stroke-linecap:butt;stroke-linejoin:miter;stroke-opacity:1\"/>\n",
       "<path class=\"bond-40 atom-40 atom-41\" d=\"M 195.747,161.593 L 192.32,168.262\" style=\"fill:none;fill-rule:evenodd;stroke:#000000;stroke-width:2.0px;stroke-linecap:butt;stroke-linejoin:miter;stroke-opacity:1\"/>\n",
       "<path class=\"bond-41 atom-41 atom-42\" d=\"M 192.32,168.262 L 188.232,186.258\" style=\"fill:none;fill-rule:evenodd;stroke:#000000;stroke-width:2.0px;stroke-linecap:butt;stroke-linejoin:miter;stroke-opacity:1\"/>\n",
       "<path class=\"bond-44 atom-41 atom-45\" d=\"M 192.32,168.262 L 174.979,161.951\" style=\"fill:none;fill-rule:evenodd;stroke:#000000;stroke-width:2.0px;stroke-linecap:butt;stroke-linejoin:miter;stroke-opacity:1\"/>\n",
       "<path class=\"bond-42 atom-42 atom-43\" d=\"M 188.187,184.413 L 181.292,184.582\" style=\"fill:none;fill-rule:evenodd;stroke:#000000;stroke-width:2.0px;stroke-linecap:butt;stroke-linejoin:miter;stroke-opacity:1\"/>\n",
       "<path class=\"bond-42 atom-42 atom-43\" d=\"M 181.292,184.582 L 174.397,184.751\" style=\"fill:none;fill-rule:evenodd;stroke:#FF0000;stroke-width:2.0px;stroke-linecap:butt;stroke-linejoin:miter;stroke-opacity:1\"/>\n",
       "<path class=\"bond-42 atom-42 atom-43\" d=\"M 188.277,188.103 L 181.382,188.271\" style=\"fill:none;fill-rule:evenodd;stroke:#000000;stroke-width:2.0px;stroke-linecap:butt;stroke-linejoin:miter;stroke-opacity:1\"/>\n",
       "<path class=\"bond-42 atom-42 atom-43\" d=\"M 181.382,188.271 L 174.488,188.44\" style=\"fill:none;fill-rule:evenodd;stroke:#FF0000;stroke-width:2.0px;stroke-linecap:butt;stroke-linejoin:miter;stroke-opacity:1\"/>\n",
       "<path class=\"bond-43 atom-42 atom-44\" d=\"M 188.232,186.258 L 188.446,193.929\" style=\"fill:none;fill-rule:evenodd;stroke:#000000;stroke-width:2.0px;stroke-linecap:butt;stroke-linejoin:miter;stroke-opacity:1\"/>\n",
       "<path class=\"bond-43 atom-42 atom-44\" d=\"M 188.446,193.929 L 188.661,201.6\" style=\"fill:none;fill-rule:evenodd;stroke:#FF0000;stroke-width:2.0px;stroke-linecap:butt;stroke-linejoin:miter;stroke-opacity:1\"/>\n",
       "<path class=\"bond-45 atom-45 atom-46\" d=\"M 174.979,161.951 L 160.843,173.813\" style=\"fill:none;fill-rule:evenodd;stroke:#000000;stroke-width:2.0px;stroke-linecap:butt;stroke-linejoin:miter;stroke-opacity:1\"/>\n",
       "<path class=\"bond-46 atom-46 atom-47\" d=\"M 160.843,173.813 L 161.712,190.399\" style=\"fill:none;fill-rule:evenodd;stroke:#000000;stroke-width:2.0px;stroke-linecap:butt;stroke-linejoin:miter;stroke-opacity:1\"/>\n",
       "<path class=\"bond-47 atom-46 atom-48\" d=\"M 160.843,173.813 L 143.502,167.502\" style=\"fill:none;fill-rule:evenodd;stroke:#000000;stroke-width:2.0px;stroke-linecap:butt;stroke-linejoin:miter;stroke-opacity:1\"/>\n",
       "<path class=\"bond-49 atom-49 atom-50\" d=\"M 219.985,111.258 L 201.56,110.228\" style=\"fill:none;fill-rule:evenodd;stroke:#000000;stroke-width:2.0px;stroke-linecap:butt;stroke-linejoin:miter;stroke-opacity:1\"/>\n",
       "<path class=\"bond-50 atom-50 atom-51\" d=\"M 201.56,110.228 L 193.239,93.7569\" style=\"fill:none;fill-rule:evenodd;stroke:#000000;stroke-width:2.0px;stroke-linecap:butt;stroke-linejoin:miter;stroke-opacity:1\"/>\n",
       "<path class=\"bond-51 atom-50 atom-52\" d=\"M 201.56,110.228 L 190.839,122.914\" style=\"fill:none;fill-rule:evenodd;stroke:#000000;stroke-width:2.0px;stroke-linecap:butt;stroke-linejoin:miter;stroke-opacity:1\"/>\n",
       "<path class=\"bond-53 atom-53 atom-54\" d=\"M 287.494,105.113 L 274.768,91.7498\" style=\"fill:none;fill-rule:evenodd;stroke:#000000;stroke-width:2.0px;stroke-linecap:butt;stroke-linejoin:miter;stroke-opacity:1\"/>\n",
       "<path class=\"bond-54 atom-54 atom-55\" d=\"M 276.538,92.2708 L 278.675,85.0118\" style=\"fill:none;fill-rule:evenodd;stroke:#000000;stroke-width:2.0px;stroke-linecap:butt;stroke-linejoin:miter;stroke-opacity:1\"/>\n",
       "<path class=\"bond-54 atom-54 atom-55\" d=\"M 278.675,85.0118 L 280.811,77.7529\" style=\"fill:none;fill-rule:evenodd;stroke:#FF0000;stroke-width:2.0px;stroke-linecap:butt;stroke-linejoin:miter;stroke-opacity:1\"/>\n",
       "<path class=\"bond-54 atom-54 atom-55\" d=\"M 272.998,91.2288 L 275.134,83.9698\" style=\"fill:none;fill-rule:evenodd;stroke:#000000;stroke-width:2.0px;stroke-linecap:butt;stroke-linejoin:miter;stroke-opacity:1\"/>\n",
       "<path class=\"bond-54 atom-54 atom-55\" d=\"M 275.134,83.9698 L 277.27,76.7109\" style=\"fill:none;fill-rule:evenodd;stroke:#FF0000;stroke-width:2.0px;stroke-linecap:butt;stroke-linejoin:miter;stroke-opacity:1\"/>\n",
       "<path class=\"bond-55 atom-54 atom-56\" d=\"M 274.768,91.7498 L 268.73,92.4484\" style=\"fill:none;fill-rule:evenodd;stroke:#000000;stroke-width:2.0px;stroke-linecap:butt;stroke-linejoin:miter;stroke-opacity:1\"/>\n",
       "<path class=\"bond-55 atom-54 atom-56\" d=\"M 268.73,92.4484 L 262.692,93.1469\" style=\"fill:none;fill-rule:evenodd;stroke:#FF0000;stroke-width:2.0px;stroke-linecap:butt;stroke-linejoin:miter;stroke-opacity:1\"/>\n",
       "<path class=\"bond-57 atom-57 atom-58\" d=\"M 340.913,146.847 L 340.784,128.394\" style=\"fill:none;fill-rule:evenodd;stroke:#000000;stroke-width:2.0px;stroke-linecap:butt;stroke-linejoin:miter;stroke-opacity:1\"/>\n",
       "<path class=\"bond-58 atom-57 atom-59\" d=\"M 340.913,146.847 L 356.959,155.962\" style=\"fill:none;fill-rule:evenodd;stroke:#000000;stroke-width:2.0px;stroke-linecap:butt;stroke-linejoin:miter;stroke-opacity:1\"/>\n",
       "<path class=\"bond-60 atom-60 atom-61\" d=\"M 351.285,213.838 L 363.823,200.297\" style=\"fill:none;fill-rule:evenodd;stroke:#000000;stroke-width:2.0px;stroke-linecap:butt;stroke-linejoin:miter;stroke-opacity:1\"/>\n",
       "<path class=\"bond-61 atom-61 atom-62\" d=\"M 363.823,200.297 L 381.818,204.386\" style=\"fill:none;fill-rule:evenodd;stroke:#000000;stroke-width:2.0px;stroke-linecap:butt;stroke-linejoin:miter;stroke-opacity:1\"/>\n",
       "<path class=\"bond-62 atom-61 atom-63\" d=\"M 363.823,200.297 L 360.882,183.951\" style=\"fill:none;fill-rule:evenodd;stroke:#000000;stroke-width:2.0px;stroke-linecap:butt;stroke-linejoin:miter;stroke-opacity:1\"/>\n",
       "<path class=\"bond-64 atom-64 atom-65\" d=\"M 312.987,269.772 L 331.396,268.484\" style=\"fill:none;fill-rule:evenodd;stroke:#000000;stroke-width:2.0px;stroke-linecap:butt;stroke-linejoin:miter;stroke-opacity:1\"/>\n",
       "<path class=\"bond-65 atom-65 atom-66\" d=\"M 331.396,268.484 L 341.716,283.783\" style=\"fill:none;fill-rule:evenodd;stroke:#000000;stroke-width:2.0px;stroke-linecap:butt;stroke-linejoin:miter;stroke-opacity:1\"/>\n",
       "<path class=\"bond-66 atom-65 atom-67\" d=\"M 331.396,268.484 L 340.442,254.555\" style=\"fill:none;fill-rule:evenodd;stroke:#000000;stroke-width:2.0px;stroke-linecap:butt;stroke-linejoin:miter;stroke-opacity:1\"/>\n",
       "<path class=\"bond-68 atom-68 atom-69\" d=\"M 246.78,284.329 L 261.081,295.992\" style=\"fill:none;fill-rule:evenodd;stroke:#000000;stroke-width:2.0px;stroke-linecap:butt;stroke-linejoin:miter;stroke-opacity:1\"/>\n",
       "<path class=\"bond-69 atom-69 atom-70\" d=\"M 261.081,295.992 L 258.131,314.209\" style=\"fill:none;fill-rule:evenodd;stroke:#000000;stroke-width:2.0px;stroke-linecap:butt;stroke-linejoin:miter;stroke-opacity:1\"/>\n",
       "<path class=\"bond-70 atom-70 atom-71\" d=\"M 256.965,315.639 L 262.685,320.304\" style=\"fill:none;fill-rule:evenodd;stroke:#000000;stroke-width:2.0px;stroke-linecap:butt;stroke-linejoin:miter;stroke-opacity:1\"/>\n",
       "<path class=\"bond-70 atom-70 atom-71\" d=\"M 262.685,320.304 L 268.405,324.969\" style=\"fill:none;fill-rule:evenodd;stroke:#FF0000;stroke-width:2.0px;stroke-linecap:butt;stroke-linejoin:miter;stroke-opacity:1\"/>\n",
       "<path class=\"bond-70 atom-70 atom-71\" d=\"M 259.297,312.779 L 265.018,317.444\" style=\"fill:none;fill-rule:evenodd;stroke:#000000;stroke-width:2.0px;stroke-linecap:butt;stroke-linejoin:miter;stroke-opacity:1\"/>\n",
       "<path class=\"bond-70 atom-70 atom-71\" d=\"M 265.018,317.444 L 270.738,322.109\" style=\"fill:none;fill-rule:evenodd;stroke:#FF0000;stroke-width:2.0px;stroke-linecap:butt;stroke-linejoin:miter;stroke-opacity:1\"/>\n",
       "<path class=\"bond-71 atom-70 atom-72\" d=\"M 258.131,314.209 L 250.936,316.942\" style=\"fill:none;fill-rule:evenodd;stroke:#000000;stroke-width:2.0px;stroke-linecap:butt;stroke-linejoin:miter;stroke-opacity:1\"/>\n",
       "<path class=\"bond-71 atom-70 atom-72\" d=\"M 250.936,316.942 L 243.74,319.676\" style=\"fill:none;fill-rule:evenodd;stroke:#FF0000;stroke-width:2.0px;stroke-linecap:butt;stroke-linejoin:miter;stroke-opacity:1\"/>\n",
       "<path class=\"atom-13\" d=\"M 201.158 238.382 Q 201.158 237.083, 201.763 236.404 Q 202.376 235.717, 203.534 235.717 Q 204.612 235.717, 205.188 236.478 L 204.701 236.876 Q 204.28 236.323, 203.534 236.323 Q 202.745 236.323, 202.324 236.854 Q 201.91 237.378, 201.91 238.382 Q 201.91 239.415, 202.339 239.947 Q 202.774 240.478, 203.616 240.478 Q 204.191 240.478, 204.863 240.131 L 205.07 240.685 Q 204.797 240.862, 204.383 240.965 Q 203.97 241.069, 203.512 241.069 Q 202.376 241.069, 201.763 240.375 Q 201.158 239.681, 201.158 238.382 \" fill=\"#000000\"/>\n",
       "<path class=\"atom-15\" d=\"M 202.416 266.011 Q 202.416 264.756, 203.036 264.055 Q 203.656 263.353, 204.815 263.353 Q 205.974 263.353, 206.594 264.055 Q 207.214 264.756, 207.214 266.011 Q 207.214 267.28, 206.587 268.004 Q 205.959 268.72, 204.815 268.72 Q 203.664 268.72, 203.036 268.004 Q 202.416 267.288, 202.416 266.011 M 204.815 268.129 Q 205.612 268.129, 206.04 267.598 Q 206.476 267.059, 206.476 266.011 Q 206.476 264.985, 206.04 264.468 Q 205.612 263.944, 204.815 263.944 Q 204.018 263.944, 203.582 264.461 Q 203.154 264.977, 203.154 266.011 Q 203.154 267.066, 203.582 267.598 Q 204.018 268.129, 204.815 268.129 \" fill=\"#FF0000\"/>\n",
       "<path class=\"atom-16\" d=\"M 225.343 258.29 L 226.052 258.29 L 226.052 260.512 L 228.724 260.512 L 228.724 258.29 L 229.433 258.29 L 229.433 263.516 L 228.724 263.516 L 228.724 261.102 L 226.052 261.102 L 226.052 263.516 L 225.343 263.516 L 225.343 258.29 \" fill=\"#0000FF\"/>\n",
       "<path class=\"atom-16\" d=\"M 230.872 258.29 L 232.585 261.058 Q 232.754 261.331, 233.028 261.826 Q 233.301 262.32, 233.315 262.35 L 233.315 258.29 L 234.009 258.29 L 234.009 263.516 L 233.293 263.516 L 231.455 260.489 Q 231.241 260.135, 231.012 259.729 Q 230.791 259.323, 230.725 259.198 L 230.725 263.516 L 230.045 263.516 L 230.045 258.29 L 230.872 258.29 \" fill=\"#0000FF\"/>\n",
       "<path class=\"atom-19\" d=\"M 267.447 285.149 Q 267.447 283.894, 268.067 283.193 Q 268.687 282.492, 269.846 282.492 Q 271.005 282.492, 271.625 283.193 Q 272.245 283.894, 272.245 285.149 Q 272.245 286.419, 271.617 287.142 Q 270.99 287.858, 269.846 287.858 Q 268.694 287.858, 268.067 287.142 Q 267.447 286.426, 267.447 285.149 M 269.846 287.268 Q 270.643 287.268, 271.071 286.736 Q 271.507 286.197, 271.507 285.149 Q 271.507 284.123, 271.071 283.606 Q 270.643 283.082, 269.846 283.082 Q 269.049 283.082, 268.613 283.599 Q 268.185 284.116, 268.185 285.149 Q 268.185 286.205, 268.613 286.736 Q 269.049 287.268, 269.846 287.268 \" fill=\"#FF0000\"/>\n",
       "<path class=\"atom-20\" d=\"M 285.041 260.181 L 286.754 262.949 Q 286.923 263.222, 287.197 263.716 Q 287.47 264.211, 287.484 264.24 L 287.484 260.181 L 288.178 260.181 L 288.178 265.407 L 287.462 265.407 L 285.624 262.38 Q 285.41 262.026, 285.181 261.62 Q 284.96 261.214, 284.894 261.088 L 284.894 265.407 L 284.214 265.407 L 284.214 260.181 L 285.041 260.181 \" fill=\"#0000FF\"/>\n",
       "<path class=\"atom-20\" d=\"M 284.152 265.929 L 284.86 265.929 L 284.86 268.151 L 287.532 268.151 L 287.532 265.929 L 288.241 265.929 L 288.241 271.155 L 287.532 271.155 L 287.532 268.742 L 284.86 268.742 L 284.86 271.155 L 284.152 271.155 L 284.152 265.929 \" fill=\"#0000FF\"/>\n",
       "<path class=\"atom-23\" d=\"M 327.825 251.763 Q 327.825 250.508, 328.445 249.806 Q 329.065 249.105, 330.224 249.105 Q 331.383 249.105, 332.003 249.806 Q 332.623 250.508, 332.623 251.763 Q 332.623 253.032, 331.996 253.756 Q 331.368 254.472, 330.224 254.472 Q 329.073 254.472, 328.445 253.756 Q 327.825 253.04, 327.825 251.763 M 330.224 253.881 Q 331.021 253.881, 331.449 253.35 Q 331.885 252.811, 331.885 251.763 Q 331.885 250.737, 331.449 250.22 Q 331.021 249.696, 330.224 249.696 Q 329.427 249.696, 328.991 250.212 Q 328.563 250.729, 328.563 251.763 Q 328.563 252.818, 328.991 253.35 Q 329.427 253.881, 330.224 253.881 \" fill=\"#FF0000\"/>\n",
       "<path class=\"atom-24\" d=\"M 325.823 224.478 L 327.535 227.246 Q 327.705 227.519, 327.978 228.013 Q 328.251 228.508, 328.266 228.537 L 328.266 224.478 L 328.96 224.478 L 328.96 229.704 L 328.244 229.704 L 326.406 226.677 Q 326.192 226.323, 325.963 225.917 Q 325.742 225.511, 325.675 225.386 L 325.675 229.704 L 324.996 229.704 L 324.996 224.478 L 325.823 224.478 \" fill=\"#0000FF\"/>\n",
       "<path class=\"atom-24\" d=\"M 329.588 224.478 L 330.296 224.478 L 330.296 226.699 L 332.968 226.699 L 332.968 224.478 L 333.677 224.478 L 333.677 229.704 L 332.968 229.704 L 332.968 227.29 L 330.296 227.29 L 330.296 229.704 L 329.588 229.704 L 329.588 224.478 \" fill=\"#0000FF\"/>\n",
       "<path class=\"atom-27\" d=\"M 349.113 188.914 Q 349.113 187.66, 349.733 186.958 Q 350.353 186.257, 351.512 186.257 Q 352.67 186.257, 353.291 186.958 Q 353.911 187.66, 353.911 188.914 Q 353.911 190.184, 353.283 190.907 Q 352.656 191.623, 351.512 191.623 Q 350.36 191.623, 349.733 190.907 Q 349.113 190.191, 349.113 188.914 M 351.512 191.033 Q 352.309 191.033, 352.737 190.501 Q 353.172 189.963, 353.172 188.914 Q 353.172 187.888, 352.737 187.372 Q 352.309 186.848, 351.512 186.848 Q 350.714 186.848, 350.279 187.364 Q 349.851 187.881, 349.851 188.914 Q 349.851 189.97, 350.279 190.501 Q 350.714 191.033, 351.512 191.033 \" fill=\"#FF0000\"/>\n",
       "<path class=\"atom-28\" d=\"M 331.111 170.534 L 332.824 173.302 Q 332.994 173.575, 333.267 174.07 Q 333.54 174.565, 333.555 174.594 L 333.555 170.534 L 334.248 170.534 L 334.248 175.76 L 333.532 175.76 L 331.694 172.734 Q 331.48 172.38, 331.252 171.974 Q 331.03 171.568, 330.964 171.442 L 330.964 175.76 L 330.285 175.76 L 330.285 170.534 L 331.111 170.534 \" fill=\"#0000FF\"/>\n",
       "<path class=\"atom-28\" d=\"M 334.876 170.534 L 335.585 170.534 L 335.585 172.756 L 338.257 172.756 L 338.257 170.534 L 338.965 170.534 L 338.965 175.76 L 338.257 175.76 L 338.257 173.347 L 335.585 173.347 L 335.585 175.76 L 334.876 175.76 L 334.876 170.534 \" fill=\"#0000FF\"/>\n",
       "<path class=\"atom-31\" d=\"M 324.432 128.577 Q 324.432 127.322, 325.052 126.621 Q 325.672 125.919, 326.831 125.919 Q 327.99 125.919, 328.61 126.621 Q 329.23 127.322, 329.23 128.577 Q 329.23 129.846, 328.602 130.57 Q 327.975 131.286, 326.831 131.286 Q 325.679 131.286, 325.052 130.57 Q 324.432 129.854, 324.432 128.577 M 326.831 130.695 Q 327.628 130.695, 328.056 130.164 Q 328.492 129.625, 328.492 128.577 Q 328.492 127.551, 328.056 127.034 Q 327.628 126.51, 326.831 126.51 Q 326.034 126.51, 325.598 127.026 Q 325.17 127.543, 325.17 128.577 Q 325.17 129.632, 325.598 130.164 Q 326.034 130.695, 326.831 130.695 \" fill=\"#FF0000\"/>\n",
       "<path class=\"atom-32\" d=\"M 298.04 127.591 L 299.752 130.359 Q 299.922 130.632, 300.195 131.127 Q 300.468 131.621, 300.483 131.651 L 300.483 127.591 L 301.177 127.591 L 301.177 132.817 L 300.461 132.817 L 298.623 129.791 Q 298.409 129.436, 298.18 129.031 Q 297.958 128.625, 297.892 128.499 L 297.892 132.817 L 297.213 132.817 L 297.213 127.591 L 298.04 127.591 \" fill=\"#0000FF\"/>\n",
       "<path class=\"atom-32\" d=\"M 301.804 127.591 L 302.513 127.591 L 302.513 129.813 L 305.185 129.813 L 305.185 127.591 L 305.894 127.591 L 305.894 132.817 L 305.185 132.817 L 305.185 130.403 L 302.513 130.403 L 302.513 132.817 L 301.804 132.817 L 301.804 127.591 \" fill=\"#0000FF\"/>\n",
       "<path class=\"atom-35\" d=\"M 260.365 104.99 Q 260.365 103.736, 260.985 103.034 Q 261.605 102.333, 262.764 102.333 Q 263.923 102.333, 264.543 103.034 Q 265.163 103.736, 265.163 104.99 Q 265.163 106.26, 264.536 106.983 Q 263.909 107.699, 262.764 107.699 Q 261.613 107.699, 260.985 106.983 Q 260.365 106.267, 260.365 104.99 M 262.764 107.109 Q 263.562 107.109, 263.99 106.577 Q 264.425 106.039, 264.425 104.99 Q 264.425 103.964, 263.99 103.448 Q 263.562 102.924, 262.764 102.924 Q 261.967 102.924, 261.532 103.44 Q 261.104 103.957, 261.104 104.99 Q 261.104 106.046, 261.532 106.577 Q 261.967 107.109, 262.764 107.109 \" fill=\"#FF0000\"/>\n",
       "<path class=\"atom-36\" d=\"M 244.535 118.926 L 246.247 121.694 Q 246.417 121.967, 246.69 122.462 Q 246.963 122.956, 246.978 122.986 L 246.978 118.926 L 247.672 118.926 L 247.672 124.152 L 246.956 124.152 L 245.118 121.126 Q 244.904 120.771, 244.675 120.365 Q 244.454 119.959, 244.387 119.834 L 244.387 124.152 L 243.708 124.152 L 243.708 118.926 L 244.535 118.926 \" fill=\"#0000FF\"/>\n",
       "<path class=\"atom-36\" d=\"M 243.645 113.177 L 244.354 113.177 L 244.354 115.399 L 247.026 115.399 L 247.026 113.177 L 247.735 113.177 L 247.735 118.403 L 247.026 118.403 L 247.026 115.99 L 244.354 115.99 L 244.354 118.403 L 243.645 118.403 L 243.645 113.177 \" fill=\"#0000FF\"/>\n",
       "<path class=\"atom-39\" d=\"M 198.226 126.994 Q 198.226 125.74, 198.846 125.038 Q 199.466 124.337, 200.625 124.337 Q 201.784 124.337, 202.404 125.038 Q 203.024 125.74, 203.024 126.994 Q 203.024 128.264, 202.397 128.987 Q 201.769 129.704, 200.625 129.704 Q 199.473 129.704, 198.846 128.987 Q 198.226 128.271, 198.226 126.994 M 200.625 129.113 Q 201.422 129.113, 201.85 128.582 Q 202.286 128.043, 202.286 126.994 Q 202.286 125.968, 201.85 125.452 Q 201.422 124.928, 200.625 124.928 Q 199.828 124.928, 199.392 125.444 Q 198.964 125.961, 198.964 126.994 Q 198.964 128.05, 199.392 128.582 Q 199.828 129.113, 200.625 129.113 \" fill=\"#FF0000\"/>\n",
       "<path class=\"atom-40\" d=\"M 194.071 149.236 L 194.78 149.236 L 194.78 151.458 L 197.452 151.458 L 197.452 149.236 L 198.16 149.236 L 198.16 154.462 L 197.452 154.462 L 197.452 152.048 L 194.78 152.048 L 194.78 154.462 L 194.071 154.462 L 194.071 149.236 \" fill=\"#0000FF\"/>\n",
       "<path class=\"atom-40\" d=\"M 199.6 149.236 L 201.312 152.004 Q 201.482 152.277, 201.755 152.772 Q 202.028 153.266, 202.043 153.296 L 202.043 149.236 L 202.737 149.236 L 202.737 154.462 L 202.021 154.462 L 200.183 151.436 Q 199.969 151.082, 199.74 150.676 Q 199.519 150.27, 199.452 150.144 L 199.452 154.462 L 198.773 154.462 L 198.773 149.236 L 199.6 149.236 \" fill=\"#0000FF\"/>\n",
       "<path class=\"atom-43\" d=\"M 169.229 186.679 Q 169.229 185.424, 169.849 184.723 Q 170.469 184.022, 171.628 184.022 Q 172.787 184.022, 173.407 184.723 Q 174.027 185.424, 174.027 186.679 Q 174.027 187.949, 173.4 188.672 Q 172.772 189.388, 171.628 189.388 Q 170.477 189.388, 169.849 188.672 Q 169.229 187.956, 169.229 186.679 M 171.628 188.798 Q 172.426 188.798, 172.854 188.266 Q 173.289 187.727, 173.289 186.679 Q 173.289 185.653, 172.854 185.136 Q 172.426 184.612, 171.628 184.612 Q 170.831 184.612, 170.396 185.129 Q 169.968 185.646, 169.968 186.679 Q 169.968 187.735, 170.396 188.266 Q 170.831 188.798, 171.628 188.798 \" fill=\"#FF0000\"/>\n",
       "<path class=\"atom-44\" d=\"M 186.348 204.719 Q 186.348 203.464, 186.968 202.763 Q 187.588 202.062, 188.747 202.062 Q 189.906 202.062, 190.526 202.763 Q 191.146 203.464, 191.146 204.719 Q 191.146 205.989, 190.519 206.712 Q 189.892 207.428, 188.747 207.428 Q 187.596 207.428, 186.968 206.712 Q 186.348 205.996, 186.348 204.719 M 188.747 206.838 Q 189.545 206.838, 189.973 206.306 Q 190.408 205.767, 190.408 204.719 Q 190.408 203.693, 189.973 203.176 Q 189.545 202.652, 188.747 202.652 Q 187.95 202.652, 187.515 203.169 Q 187.087 203.686, 187.087 204.719 Q 187.087 205.775, 187.515 206.306 Q 187.95 206.838, 188.747 206.838 \" fill=\"#FF0000\"/>\n",
       "<path class=\"atom-55\" d=\"M 277.579 74.0615 Q 277.579 72.8066, 278.199 72.1054 Q 278.819 71.4041, 279.978 71.4041 Q 281.137 71.4041, 281.757 72.1054 Q 282.377 72.8066, 282.377 74.0615 Q 282.377 75.3311, 281.75 76.0545 Q 281.122 76.7705, 279.978 76.7705 Q 278.826 76.7705, 278.199 76.0545 Q 277.579 75.3385, 277.579 74.0615 M 279.978 76.18 Q 280.775 76.18, 281.203 75.6485 Q 281.639 75.1097, 281.639 74.0615 Q 281.639 73.0355, 281.203 72.5187 Q 280.775 71.9947, 279.978 71.9947 Q 279.181 71.9947, 278.745 72.5114 Q 278.317 73.0281, 278.317 74.0615 Q 278.317 75.117, 278.745 75.6485 Q 279.181 76.18, 279.978 76.18 \" fill=\"#FF0000\"/>\n",
       "<path class=\"atom-56\" d=\"M 253.062 90.8842 L 253.771 90.8842 L 253.771 93.106 L 256.443 93.106 L 256.443 90.8842 L 257.151 90.8842 L 257.151 96.1103 L 256.443 96.1103 L 256.443 93.6965 L 253.771 93.6965 L 253.771 96.1103 L 253.062 96.1103 L 253.062 90.8842 \" fill=\"#FF0000\"/>\n",
       "<path class=\"atom-56\" d=\"M 257.52 93.4824 Q 257.52 92.2276, 258.14 91.5263 Q 258.76 90.8251, 259.919 90.8251 Q 261.078 90.8251, 261.698 91.5263 Q 262.318 92.2276, 262.318 93.4824 Q 262.318 94.7521, 261.691 95.4755 Q 261.064 96.1915, 259.919 96.1915 Q 258.768 96.1915, 258.14 95.4755 Q 257.52 94.7595, 257.52 93.4824 M 259.919 95.6009 Q 260.717 95.6009, 261.145 95.0695 Q 261.58 94.5306, 261.58 93.4824 Q 261.58 92.4564, 261.145 91.9397 Q 260.717 91.4156, 259.919 91.4156 Q 259.122 91.4156, 258.687 91.9323 Q 258.259 92.449, 258.259 93.4824 Q 258.259 94.538, 258.687 95.0695 Q 259.122 95.6009, 259.919 95.6009 \" fill=\"#FF0000\"/>\n",
       "<path class=\"atom-71\" d=\"M 270.033 325.887 Q 270.033 324.632, 270.653 323.931 Q 271.273 323.229, 272.432 323.229 Q 273.591 323.229, 274.211 323.931 Q 274.831 324.632, 274.831 325.887 Q 274.831 327.156, 274.204 327.88 Q 273.576 328.596, 272.432 328.596 Q 271.28 328.596, 270.653 327.88 Q 270.033 327.164, 270.033 325.887 M 272.432 328.005 Q 273.229 328.005, 273.657 327.474 Q 274.093 326.935, 274.093 325.887 Q 274.093 324.861, 273.657 324.344 Q 273.229 323.82, 272.432 323.82 Q 271.635 323.82, 271.199 324.337 Q 270.771 324.853, 270.771 325.887 Q 270.771 326.942, 271.199 327.474 Q 271.635 328.005, 272.432 328.005 \" fill=\"#FF0000\"/>\n",
       "<path class=\"atom-72\" d=\"M 234.023 318.179 L 234.731 318.179 L 234.731 320.401 L 237.403 320.401 L 237.403 318.179 L 238.112 318.179 L 238.112 323.405 L 237.403 323.405 L 237.403 320.991 L 234.731 320.991 L 234.731 323.405 L 234.023 323.405 L 234.023 318.179 \" fill=\"#FF0000\"/>\n",
       "<path class=\"atom-72\" d=\"M 238.481 320.777 Q 238.481 319.522, 239.101 318.821 Q 239.721 318.12, 240.88 318.12 Q 242.039 318.12, 242.659 318.821 Q 243.279 319.522, 243.279 320.777 Q 243.279 322.047, 242.652 322.77 Q 242.024 323.486, 240.88 323.486 Q 239.729 323.486, 239.101 322.77 Q 238.481 322.054, 238.481 320.777 M 240.88 322.896 Q 241.677 322.896, 242.105 322.364 Q 242.541 321.825, 242.541 320.777 Q 242.541 319.751, 242.105 319.234 Q 241.677 318.71, 240.88 318.71 Q 240.083 318.71, 239.647 319.227 Q 239.219 319.744, 239.219 320.777 Q 239.219 321.833, 239.647 322.364 Q 240.083 322.896, 240.88 322.896 \" fill=\"#FF0000\"/>\n",
       "</svg>"
      ],
      "text/plain": [
       "<IPython.core.display.SVG object>"
      ]
     },
     "execution_count": 18,
     "metadata": {},
     "output_type": "execute_result"
    }
   ],
   "source": [
    "SVG(moltosvg2('CC(C)CCCCCCCCCC1CC(=O)NC(C(=O)NC(C(=O)NC(C(=O)NC(C(=O)NC(C(=O)NC(C(=O)NC(C(=O)O1)CC(C)C)CC(C)C)CC(=O)O)C(C)C)CC(C)C)CC(C)C)CCC(=O)O', molSize=(400,400)))"
   ]
  },
  {
   "cell_type": "code",
   "execution_count": 31,
   "id": "0f7ced5a",
   "metadata": {},
   "outputs": [],
   "source": [
    "with open('molecule_1.svg','w') as f:\n",
    "    f.write(moltosvg3('O=C(O)Cc1c[nH]c2ccccc12',p))"
   ]
  },
  {
   "cell_type": "code",
   "execution_count": 32,
   "id": "3adf5074",
   "metadata": {},
   "outputs": [],
   "source": [
    "with open('molecule_2.svg','w') as f:\n",
    "    f.write(moltosvg3('C12=CC=CC=C1N(C(C2(CC(=O)O[H])O[H])O[H])[H]',q))"
   ]
  },
  {
   "cell_type": "code",
   "execution_count": 33,
   "id": "fe127b05",
   "metadata": {},
   "outputs": [],
   "source": [
    "with open('molecule_3.svg','w') as f:\n",
    "    f.write(moltosvg3(\"C12=CC=CC=C1N(C(C2(CC(=O)O[H])O[H])=O)[H]\",q))"
   ]
  },
  {
   "cell_type": "code",
   "execution_count": 34,
   "id": "028f3f14",
   "metadata": {},
   "outputs": [],
   "source": [
    "with open('molecule_4.svg','w') as f:\n",
    "    f.write(moltosvg2(\"C1=CC=C(C(=C1)O)O\"))"
   ]
  },
  {
   "cell_type": "code",
   "execution_count": 35,
   "id": "d596b573",
   "metadata": {},
   "outputs": [],
   "source": [
    "with open('molecule_5.svg','w') as f:\n",
    "    f.write(moltosvg3(\"C12=CC=CC=C1C(=C([N]2[H])O[H])CC(O[H])=O\",t))"
   ]
  },
  {
   "cell_type": "code",
   "execution_count": 36,
   "id": "0fb72794",
   "metadata": {},
   "outputs": [],
   "source": [
    "with open('molecule_6.svg','w') as f:\n",
    "    f.write(moltosvg3(\"C12=CC=CC=C1C(C(N2[H])=O)CC(O[H])=O\",z))"
   ]
  },
  {
   "cell_type": "code",
   "execution_count": null,
   "id": "ec604cce",
   "metadata": {},
   "outputs": [],
   "source": []
  }
 ],
 "metadata": {
  "kernelspec": {
   "display_name": "Python [conda env:chem]",
   "language": "python",
   "name": "conda-env-chem-py"
  },
  "language_info": {
   "codemirror_mode": {
    "name": "ipython",
    "version": 3
   },
   "file_extension": ".py",
   "mimetype": "text/x-python",
   "name": "python",
   "nbconvert_exporter": "python",
   "pygments_lexer": "ipython3",
   "version": "3.9.2"
  }
 },
 "nbformat": 4,
 "nbformat_minor": 5
}
